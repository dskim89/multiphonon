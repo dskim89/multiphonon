{
 "cells": [
  {
   "cell_type": "code",
   "execution_count": 1,
   "metadata": {
    "collapsed": false
   },
   "outputs": [
    {
     "name": "stderr",
     "output_type": "stream",
     "text": [
      "/home/lj7/anaconda2/envs/dev-mph/lib/python2.7/site-packages/matplotlib/font_manager.py:273: UserWarning: Matplotlib is building the font cache using fc-list. This may take a moment.\n",
      "  warnings.warn('Matplotlib is building the font cache using fc-list. This may take a moment.')\n"
     ]
    }
   ],
   "source": [
    "# import some useful utils\n",
    "%matplotlib notebook\n",
    "from matplotlib import pyplot as plt\n",
    "import numpy as np\n",
    "import histogram.hdf as hh, histogram as H"
   ]
  },
  {
   "cell_type": "code",
   "execution_count": 1,
   "metadata": {
    "collapsed": true
   },
   "outputs": [],
   "source": []
  },
  {
   "cell_type": "code",
   "execution_count": 12,
   "metadata": {
    "collapsed": false
   },
   "outputs": [],
   "source": [
    "from __future__ import print_function\n",
    "from ipywidgets import interact, interactive, fixed\n",
    "import ipywidgets as widgets\n",
    "from IPython.display import display"
   ]
  },
  {
   "cell_type": "code",
   "execution_count": 33,
   "metadata": {
    "collapsed": true
   },
   "outputs": [],
   "source": [
    "# Change this line\n",
    "eventnxs = \"/SNS/ARCS/2012_2_18_CAL/0/30585/NeXus/ARCS_30585_event.nxs\""
   ]
  },
  {
   "cell_type": "code",
   "execution_count": 34,
   "metadata": {
    "collapsed": false
   },
   "outputs": [
    {
     "ename": "NameError",
     "evalue": "global name 'hh' is not defined",
     "output_type": "error",
     "traceback": [
      "\u001b[0;31m---------------------------------------------------------------------------\u001b[0m",
      "\u001b[0;31mNameError\u001b[0m                                 Traceback (most recent call last)",
      "\u001b[0;32m<ipython-input-34-6520c2c815d5>\u001b[0m in \u001b[0;36msubmit\u001b[0;34m(b)\u001b[0m\n\u001b[1;32m     33\u001b[0m         \u001b[0mM\u001b[0m\u001b[0;34m=\u001b[0m\u001b[0mw_mass\u001b[0m\u001b[0;34m.\u001b[0m\u001b[0mvalue\u001b[0m\u001b[0;34m,\u001b[0m\u001b[0;34m\u001b[0m\u001b[0m\n\u001b[1;32m     34\u001b[0m         \u001b[0mC_ms\u001b[0m\u001b[0;34m=\u001b[0m\u001b[0mw_C_ms\u001b[0m\u001b[0;34m.\u001b[0m\u001b[0mvalue\u001b[0m\u001b[0;34m,\u001b[0m \u001b[0mEi\u001b[0m\u001b[0;34m=\u001b[0m\u001b[0mw_Ei\u001b[0m\u001b[0;34m.\u001b[0m\u001b[0mvalue\u001b[0m\u001b[0;34m,\u001b[0m\u001b[0;34m\u001b[0m\u001b[0m\n\u001b[0;32m---> 35\u001b[0;31m         workdir='work')\n\u001b[0m\u001b[1;32m     36\u001b[0m     \u001b[0;32mreturn\u001b[0m\u001b[0;34m\u001b[0m\u001b[0m\n\u001b[1;32m     37\u001b[0m \u001b[0mw_Run\u001b[0m\u001b[0;34m.\u001b[0m\u001b[0mon_click\u001b[0m\u001b[0;34m(\u001b[0m \u001b[0msubmit\u001b[0m \u001b[0;34m)\u001b[0m\u001b[0;34m\u001b[0m\u001b[0m\n",
      "\u001b[0;32m/home/lj7/dv/sns-chops/multiphonon/multiphonon/getdos.py\u001b[0m in \u001b[0;36mgetDOS\u001b[0;34m(eventnxs, Emin, Emax, dE, Qmin, Qmax, dQ, T, Ecutoff, elastic_E_cutoff, M, C_ms, Ei, workdir)\u001b[0m\n\u001b[1;32m     15\u001b[0m     \u001b[0;32mif\u001b[0m \u001b[0mos\u001b[0m\u001b[0;34m.\u001b[0m\u001b[0msystem\u001b[0m\u001b[0;34m(\u001b[0m\u001b[0mcmd\u001b[0m\u001b[0;34m)\u001b[0m\u001b[0;34m:\u001b[0m\u001b[0;34m\u001b[0m\u001b[0m\n\u001b[1;32m     16\u001b[0m         \u001b[0;32mraise\u001b[0m \u001b[0mRuntimeError\u001b[0m\u001b[0;34m(\u001b[0m\u001b[0;34m\"%s failed\"\u001b[0m \u001b[0;34m%\u001b[0m \u001b[0mcmd\u001b[0m\u001b[0;34m)\u001b[0m\u001b[0;34m\u001b[0m\u001b[0m\n\u001b[0;32m---> 17\u001b[0;31m     \u001b[0;31m# to DOS\u001b[0m\u001b[0;34m\u001b[0m\u001b[0;34m\u001b[0m\u001b[0m\n\u001b[0m\u001b[1;32m     18\u001b[0m     \u001b[0miqehist\u001b[0m \u001b[0;34m=\u001b[0m \u001b[0mhh\u001b[0m\u001b[0;34m.\u001b[0m\u001b[0mload\u001b[0m\u001b[0;34m(\u001b[0m\u001b[0;34m\"iqe.h5\"\u001b[0m\u001b[0;34m)\u001b[0m\u001b[0;34m\u001b[0m\u001b[0m\n\u001b[1;32m     19\u001b[0m     \u001b[0;31m# interpolate data\u001b[0m\u001b[0;34m\u001b[0m\u001b[0;34m\u001b[0m\u001b[0m\n",
      "\u001b[0;31mNameError\u001b[0m: global name 'hh' is not defined"
     ]
    }
   ],
   "source": [
    "w_Emin = widgets.BoundedFloatText(description=\"Emin\", min=-1000., max=0., value=-70)\n",
    "w_Emax = widgets.BoundedFloatText(description=\"Emax\", min=0., max=1000., value=70)\n",
    "w_dE = widgets.BoundedFloatText(description=\"dE\", min=0.01, max=50., value=1.)\n",
    "w_Qmin = widgets.BoundedFloatText(description=\"Qmin\", min=0, max=5., value=0)\n",
    "w_Qmax = widgets.BoundedFloatText(description=\"Qmax\", min=5., max=50., value=14.)\n",
    "w_dQ = widgets.BoundedFloatText(description=\"dQ\", min=0.01, max=5., value=0.1)\n",
    "w_T = widgets.BoundedFloatText(description=\"Temperature\", min=0.001, max=5000., value=300.)\n",
    "w_Ecutoff = widgets.BoundedFloatText(description=\"Max energy of phonons\", min=5, max=1000., value=50)\n",
    "w_ElasticPeakMin = widgets.BoundedFloatText(description=\"Emin of elastic peak\", min=-300., max=-1., value=-20.)\n",
    "w_ElasticPeakMax = widgets.BoundedFloatText(description=\"Emax of elastic peak\", min=0.2, max=300., value=7.)\n",
    "w_mass = widgets.BoundedFloatText(description=\"Average atom mass\", min=1., max=300., value=50.94)\n",
    "w_C_ms = widgets.BoundedFloatText(description=\"C_ms\", min=0., max=10., value=0.3)\n",
    "w_Ei = widgets.BoundedFloatText(description=\"Ei\", min=1, max=2000., value=116.446)\n",
    "\n",
    "w_inputs = (\n",
    "    w_Emin, w_Emax, w_dE,\n",
    "    w_Qmin, w_Qmax, w_dQ,\n",
    "    w_T, w_Ecutoff,\n",
    "    w_ElasticPeakMin, w_ElasticPeakMax,\n",
    "    w_mass, w_C_ms, w_Ei\n",
    ")\n",
    "\n",
    "w_Run = widgets.Button(description=\"Run\")\n",
    "def submit(b):\n",
    "    # the getdos function\n",
    "    from multiphonon import getdos\n",
    "    getdos.getDOS(\n",
    "        eventnxs, \n",
    "        Emin=w_Emin.value, Emax=w_Emax.value, dE=w_dE.value,\n",
    "        Qmin=w_Qmin.value, Qmax=w_Qmax.value, dQ=w_dQ.value,\n",
    "        T=w_T.value, Ecutoff=w_Ecutoff.value, \n",
    "        elastic_E_cutoff=(w_ElasticPeakMin.value, w_ElasticPeakMax.value),\n",
    "        M=w_mass.value,\n",
    "        C_ms=w_C_ms.value, Ei=w_Ei.value,\n",
    "        workdir='work')\n",
    "    return\n",
    "w_Run.on_click( submit )\n",
    "w_all = w_inputs + (w_Run,)\n",
    "display(*w_all)"
   ]
  },
  {
   "cell_type": "code",
   "execution_count": null,
   "metadata": {
    "collapsed": true
   },
   "outputs": [],
   "source": []
  }
 ],
 "metadata": {
  "kernelspec": {
   "display_name": "Python 2",
   "language": "python",
   "name": "python2"
  },
  "language_info": {
   "codemirror_mode": {
    "name": "ipython",
    "version": 2
   },
   "file_extension": ".py",
   "mimetype": "text/x-python",
   "name": "python",
   "nbconvert_exporter": "python",
   "pygments_lexer": "ipython2",
   "version": "2.7.12"
  },
  "widgets": {
   "state": {
    "06885389dea0498293619cbeb8e7b671": {
     "views": [
      {
       "cell_index": 4
      }
     ]
    },
    "085a3a93d1e24100991000c5cc03623c": {
     "views": [
      {
       "cell_index": 3
      }
     ]
    },
    "0ea124d7493549c6b1a3aca6a4e89d55": {
     "views": [
      {
       "cell_index": 3
      }
     ]
    },
    "13997b297ab94bb9be057d524c0b5916": {
     "views": [
      {
       "cell_index": 3
      }
     ]
    },
    "16e2c82db0fb48228fa683abe58d057d": {
     "views": [
      {
       "cell_index": 3
      }
     ]
    },
    "1e988a1b809841bbaca7b8e17be95da6": {
     "views": [
      {
       "cell_index": 3
      }
     ]
    },
    "2737c3ac273648dd967a61a779f33bbc": {
     "views": [
      {
       "cell_index": 3
      }
     ]
    },
    "2a3ebe51ca0d46689d5cda6b60d043ae": {
     "views": [
      {
       "cell_index": 4
      }
     ]
    },
    "2d203cc5591245b0b6c0296eb20c7315": {
     "views": [
      {
       "cell_index": 3
      }
     ]
    },
    "2dd8eefa91844ba3af7f557a202b1f1e": {
     "views": [
      {
       "cell_index": 3
      }
     ]
    },
    "33df8b21ca5d4bdea614de27dd68b028": {
     "views": [
      {
       "cell_index": 4
      }
     ]
    },
    "3a4cdb6bf0934c20be5d2eaf4b6d773f": {
     "views": [
      {
       "cell_index": 4
      }
     ]
    },
    "3d936ec5553d4bf3b322fd3c9927427d": {
     "views": [
      {
       "cell_index": 3
      }
     ]
    },
    "3e3a37062453447891207fe1d27bd6dc": {
     "views": [
      {
       "cell_index": 4
      }
     ]
    },
    "45b5ab1739a947d5b05de555255fa5cd": {
     "views": [
      {
       "cell_index": 3
      }
     ]
    },
    "51b24d7922344354826a5d959d06b161": {
     "views": [
      {
       "cell_index": 3
      }
     ]
    },
    "54cc698813754df1944a3866cba95907": {
     "views": [
      {
       "cell_index": 3
      }
     ]
    },
    "5b8039e4380c4b4095d17be64fc9abaa": {
     "views": [
      {
       "cell_index": 3
      }
     ]
    },
    "621dc7548831464289c326af486071b2": {
     "views": [
      {
       "cell_index": 3
      }
     ]
    },
    "6f1c32b5f4864089815787347dfbf96c": {
     "views": [
      {
       "cell_index": 3
      }
     ]
    },
    "79b25ffda0a74cff993771ebcf2e84ac": {
     "views": [
      {
       "cell_index": 3
      }
     ]
    },
    "86ed4bc67ec04d1cb4537653b6f906a7": {
     "views": [
      {
       "cell_index": 4
      }
     ]
    },
    "8a5e0d85d8ab47c3b4f5e1d5bef1dd4c": {
     "views": [
      {
       "cell_index": 3
      }
     ]
    },
    "8b0921a76ef14d948844f80b71b42fa9": {
     "views": [
      {
       "cell_index": 3
      }
     ]
    },
    "8d9a37fd16b84316abd6fa30f27a0bb1": {
     "views": [
      {
       "cell_index": 3
      }
     ]
    },
    "8eb18d201b964d1da188f00fe3d522e5": {
     "views": [
      {
       "cell_index": 3
      }
     ]
    },
    "94772ba0dbc14c10aca121e3e271da0f": {
     "views": [
      {
       "cell_index": 3
      }
     ]
    },
    "9674e72b00d443e4a0a28942860c1e76": {
     "views": [
      {
       "cell_index": 4
      }
     ]
    },
    "9c5f328b688440ccb6c585477bf9bdbf": {
     "views": [
      {
       "cell_index": 4
      }
     ]
    },
    "a5f4284b8ed64d999f6404308c85a91a": {
     "views": [
      {
       "cell_index": 4
      }
     ]
    },
    "a6a2d4d37ba0483791675982f1657c74": {
     "views": [
      {
       "cell_index": 4
      }
     ]
    },
    "aaced50deec44994a2e246bb451faec4": {
     "views": [
      {
       "cell_index": 3
      }
     ]
    },
    "ab39b13028c4482d9dce15ad7379a24f": {
     "views": [
      {
       "cell_index": 3
      }
     ]
    },
    "acd5b7066e3d4856b5a2636716dcf831": {
     "views": [
      {
       "cell_index": 3
      }
     ]
    },
    "b15f61ce34084cd9b77560d43371b362": {
     "views": [
      {
       "cell_index": 4
      }
     ]
    },
    "c4f8da0bc17e434c8f2c7fbc912efbca": {
     "views": [
      {
       "cell_index": 3
      }
     ]
    },
    "cb75b2d6085f4be3b8516894575f499a": {
     "views": [
      {
       "cell_index": 3
      }
     ]
    },
    "d638b1e2099e46e89d4cfe0e8ae4bf1f": {
     "views": [
      {
       "cell_index": 3
      }
     ]
    },
    "d750292e7af240289d5bdfc4da786c0e": {
     "views": [
      {
       "cell_index": 3
      }
     ]
    },
    "d8d20473eb784288b4cfbea8a24badce": {
     "views": [
      {
       "cell_index": 3
      }
     ]
    },
    "d9d699fe72fc403eb94c9137b0708a63": {
     "views": [
      {
       "cell_index": 4
      }
     ]
    },
    "e9c5e55a8ee34db399b56b295edc658a": {
     "views": [
      {
       "cell_index": 4
      }
     ]
    },
    "ee5c0a41ecad4c5684ce1b5cc669c9cd": {
     "views": [
      {
       "cell_index": 3
      }
     ]
    },
    "ee94fc065eb2486aaefd64121aa21231": {
     "views": [
      {
       "cell_index": 3
      }
     ]
    },
    "f646aa12a54c4e17b97de440781defac": {
     "views": [
      {
       "cell_index": 3
      }
     ]
    },
    "f6b725c9979d4e8db20ecdfc29201e70": {
     "views": [
      {
       "cell_index": 3
      }
     ]
    },
    "f91bd8dba9da45ae99637bf532052503": {
     "views": [
      {
       "cell_index": 4
      }
     ]
    },
    "fbef5adeb347497884bad17ae0e5a393": {
     "views": [
      {
       "cell_index": 3
      }
     ]
    },
    "fe001d9ed7e2411aaa248fdcb010eed9": {
     "views": [
      {
       "cell_index": 3
      }
     ]
    }
   },
   "version": "1.2.0"
  }
 },
 "nbformat": 4,
 "nbformat_minor": 0
}
