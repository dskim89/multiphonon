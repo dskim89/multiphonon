{
 "cells": [
  {
   "cell_type": "code",
   "execution_count": 1,
   "metadata": {
    "collapsed": false
   },
   "outputs": [
    {
     "name": "stderr",
     "output_type": "stream",
     "text": [
      "/home/lj7/anaconda2/envs/dev-mph/lib/python2.7/site-packages/matplotlib/font_manager.py:273: UserWarning: Matplotlib is building the font cache using fc-list. This may take a moment.\n",
      "  warnings.warn('Matplotlib is building the font cache using fc-list. This may take a moment.')\n"
     ]
    }
   ],
   "source": [
    "# import some useful utils\n",
    "%matplotlib notebook\n",
    "from matplotlib import pyplot as plt\n",
    "import numpy as np\n",
    "import histogram.hdf as hh, histogram as H"
   ]
  },
  {
   "cell_type": "code",
   "execution_count": 3,
   "metadata": {
    "collapsed": true
   },
   "outputs": [],
   "source": [
    "def getDOS(eventnxs, Emin=-100, Emax=100, dE=1.,\n",
    "           Qmin=0, Qmax=15., dQ=0.1, T=300, Ecutoff=50., \n",
    "           elastic_E_cutoff=(-20., 7), M=50.94,\n",
    "           C_ms=0.3, Ei=116.446, workdir='work'):\n",
    "    import os\n",
    "    # reduce\n",
    "    cmd = \"mcvine instruments arcs nxs reduce %(eventnxs)s --out=iqe.nxs\"\n",
    "    cmd += \" --eaxis %(Emin)s %(Emax)s %(dE)s --qaxis %(Qmin)s %(Qmax)s %(dQ)s\"\n",
    "    cmd = cmd % locals()\n",
    "    if os.system(cmd):\n",
    "        raise RuntimeError(\"%s failed\" % cmd)\n",
    "    # to histogram\n",
    "    cmd = \"mcvine mantid extract_iqe iqe.nxs iqe.h5\"\n",
    "    if os.system(cmd):\n",
    "        raise RuntimeError(\"%s failed\" % cmd)\n",
    "    # to DOS\n",
    "    iqehist = hh.load(\"./v30585-iqe.h5\") \n",
    "    # interpolate data\n",
    "    from multiphonon.sqe import interp\n",
    "    # probably don't need this line\n",
    "    newiqe = interp(iqehist, newE = np.arange(Emin, Emax, dE))\n",
    "    # save interpolated data\n",
    "    hh.dump(newiqe, 'iqe-interped.h5')\n",
    "    # create processing engine\n",
    "    from multiphonon.backward import sqe2dos\n",
    "    iterdos = sqe2dos.sqe2dos(\n",
    "      newiqe, T=T, Ecutoff=Ecutoff, \n",
    "      elastic_E_cutoff=elastic_E_cutoff, M=M,\n",
    "      C_ms=C_ms, Ei=Ei, workdir='work')\n",
    "    doslist = list(iterdos)\n",
    "    return doslist"
   ]
  },
  {
   "cell_type": "code",
   "execution_count": 4,
   "metadata": {
    "collapsed": true
   },
   "outputs": [],
   "source": [
    "eventnxs=\"/SNS/ARCS/2012_2_18_CAL/0/30585/NeXus/ARCS_30585_event.nxs\""
   ]
  },
  {
   "cell_type": "code",
   "execution_count": 5,
   "metadata": {
    "collapsed": false
   },
   "outputs": [
    {
     "name": "stderr",
     "output_type": "stream",
     "text": [
      "/home/lj7/anaconda2/envs/dev-mph/lib/python2.7/site-packages/histogram/hdf/Loader.py:129: FutureWarning: elementwise comparison failed; returning scalar instead, but in the future will perform elementwise comparison\n",
      "  if 'storage' in list(dataGroup): # this uses the 'storage' convention\n",
      "/home/lj7/dv/sns-chops/multiphonon/multiphonon/forward/phonon.py:227: RuntimeWarning: divide by zero encountered in divide\n",
      "  return np.cosh(x)/np.sinh(x)\n",
      "/home/lj7/dv/sns-chops/multiphonon/multiphonon/forward/phonon.py:242: RuntimeWarning: invalid value encountered in multiply\n",
      "  f = coth(beta * E/2.) * g/E\n",
      "/home/lj7/dv/sns-chops/multiphonon/multiphonon/forward/phonon.py:200: RuntimeWarning: divide by zero encountered in divide\n",
      "  t = 1./(1-np.exp(-E*beta)) # XXX\n",
      "/home/lj7/dv/sns-chops/multiphonon/multiphonon/forward/phonon.py:201: RuntimeWarning: invalid value encountered in divide\n",
      "  t = g/(E*g0)*t\n",
      "/home/lj7/dv/sns-chops/multiphonon/multiphonon/backward/singlephonon_sqe2dos.py:63: RuntimeWarning: divide by zero encountered in divide\n",
      "  dos = initdos * (expse/simse)\n",
      "/home/lj7/dv/sns-chops/multiphonon/multiphonon/backward/singlephonon_sqe2dos.py:63: RuntimeWarning: invalid value encountered in multiply\n",
      "  dos = initdos * (expse/simse)\n"
     ]
    }
   ],
   "source": [
    "doslist = getDOS(eventnxs, Emin=-100, Emax=100, dE=1.,\n",
    "       Qmin=0, Qmax=15., dQ=0.1, T=300, Ecutoff=50., \n",
    "       elastic_E_cutoff=(-20., 7), M=50.94,\n",
    "       C_ms=0.3, Ei=116.446, workdir='work')"
   ]
  },
  {
   "cell_type": "code",
   "execution_count": null,
   "metadata": {
    "collapsed": true
   },
   "outputs": [],
   "source": []
  }
 ],
 "metadata": {
  "kernelspec": {
   "display_name": "Python 2",
   "language": "python",
   "name": "python2"
  },
  "language_info": {
   "codemirror_mode": {
    "name": "ipython",
    "version": 2
   },
   "file_extension": ".py",
   "mimetype": "text/x-python",
   "name": "python",
   "nbconvert_exporter": "python",
   "pygments_lexer": "ipython2",
   "version": "2.7.12"
  }
 },
 "nbformat": 4,
 "nbformat_minor": 0
}
