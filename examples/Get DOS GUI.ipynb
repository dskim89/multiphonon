{
 "cells": [
  {
   "cell_type": "code",
   "execution_count": 1,
   "metadata": {
    "collapsed": false
   },
   "outputs": [
    {
     "name": "stderr",
     "output_type": "stream",
     "text": [
      "/home/lj7/anaconda2/envs/dev-mph/lib/python2.7/site-packages/matplotlib/font_manager.py:273: UserWarning: Matplotlib is building the font cache using fc-list. This may take a moment.\n",
      "  warnings.warn('Matplotlib is building the font cache using fc-list. This may take a moment.')\n"
     ]
    }
   ],
   "source": [
    "# import some useful utils\n",
    "%matplotlib notebook\n",
    "from matplotlib import pyplot as plt\n",
    "import numpy as np\n",
    "import histogram.hdf as hh, histogram as H"
   ]
  },
  {
   "cell_type": "code",
   "execution_count": 1,
   "metadata": {
    "collapsed": false
   },
   "outputs": [],
   "source": [
    "from __future__ import print_function\n",
    "from ipywidgets import interact, interactive, fixed\n",
    "import ipywidgets as widgets\n",
    "from IPython.display import display"
   ]
  },
  {
   "cell_type": "code",
   "execution_count": 2,
   "metadata": {
    "collapsed": true
   },
   "outputs": [],
   "source": [
    "# Change this line\n",
    "eventnxs = \"/SNS/ARCS/2012_2_18_CAL/0/30585/NeXus/ARCS_30585_event.nxs\""
   ]
  },
  {
   "cell_type": "code",
   "execution_count": 3,
   "metadata": {
    "collapsed": false
   },
   "outputs": [
    {
     "name": "stdout",
     "output_type": "stream",
     "text": [
      "reducing...\n",
      "to histogram...\n"
     ]
    },
    {
     "name": "stderr",
     "output_type": "stream",
     "text": [
      "/home/lj7/anaconda2/envs/dev-mph/lib/python2.7/site-packages/histogram/hdf/Loader.py:129: FutureWarning: elementwise comparison failed; returning scalar instead, but in the future will perform elementwise comparison\n",
      "  if 'storage' in list(dataGroup): # this uses the 'storage' convention\n"
     ]
    },
    {
     "name": "stdout",
     "output_type": "stream",
     "text": [
      "iterative computation of DOS...\n"
     ]
    },
    {
     "name": "stderr",
     "output_type": "stream",
     "text": [
      "/home/lj7/dv/sns-chops/multiphonon/multiphonon/forward/phonon.py:227: RuntimeWarning: divide by zero encountered in divide\n",
      "  return np.cosh(x)/np.sinh(x)\n",
      "/home/lj7/dv/sns-chops/multiphonon/multiphonon/forward/phonon.py:242: RuntimeWarning: invalid value encountered in multiply\n",
      "  f = coth(beta * E/2.) * g/E\n",
      "/home/lj7/dv/sns-chops/multiphonon/multiphonon/forward/phonon.py:200: RuntimeWarning: divide by zero encountered in divide\n",
      "  t = 1./(1-np.exp(-E*beta)) # XXX\n",
      "/home/lj7/dv/sns-chops/multiphonon/multiphonon/forward/phonon.py:201: RuntimeWarning: invalid value encountered in divide\n",
      "  t = g/(E*g0)*t\n",
      "/home/lj7/dv/sns-chops/multiphonon/multiphonon/backward/singlephonon_sqe2dos.py:63: RuntimeWarning: divide by zero encountered in divide\n",
      "  dos = initdos * (expse/simse)\n",
      "/home/lj7/dv/sns-chops/multiphonon/multiphonon/backward/singlephonon_sqe2dos.py:63: RuntimeWarning: invalid value encountered in multiply\n",
      "  dos = initdos * (expse/simse)\n"
     ]
    },
    {
     "name": "stdout",
     "output_type": "stream",
     "text": [
      "done.\n"
     ]
    }
   ],
   "source": [
    "from multiphonon.getdos import notebookUI\n",
    "notebookUI(eventnxs)"
   ]
  },
  {
   "cell_type": "code",
   "execution_count": null,
   "metadata": {
    "collapsed": true
   },
   "outputs": [],
   "source": []
  }
 ],
 "metadata": {
  "kernelspec": {
   "display_name": "Python 2",
   "language": "python",
   "name": "python2"
  },
  "language_info": {
   "codemirror_mode": {
    "name": "ipython",
    "version": 2
   },
   "file_extension": ".py",
   "mimetype": "text/x-python",
   "name": "python",
   "nbconvert_exporter": "python",
   "pygments_lexer": "ipython2",
   "version": "2.7.12"
  },
  "widgets": {
   "state": {
    "056db799d5e749c492dc6a32923b06ec": {
     "views": [
      {
       "cell_index": 3
      }
     ]
    },
    "10dc57d243474a9caf8525d4f3238cc8": {
     "views": [
      {
       "cell_index": 3
      }
     ]
    },
    "1e44eacd30914a6d88538ae00da3966c": {
     "views": [
      {
       "cell_index": 3
      }
     ]
    },
    "294524e649ce44d2867a5be9b9e25e5a": {
     "views": [
      {
       "cell_index": 3
      }
     ]
    },
    "2be8a5718d7f4ef284e87be327d1f6cb": {
     "views": [
      {
       "cell_index": 3
      }
     ]
    },
    "37015e505e164d75b858cdb83d6e46b7": {
     "views": [
      {
       "cell_index": 3
      }
     ]
    },
    "3d3c6ad816114a9c842b38c89d33e713": {
     "views": [
      {
       "cell_index": 3
      }
     ]
    },
    "554c227f0f224897b4666f9f05514479": {
     "views": [
      {
       "cell_index": 3
      }
     ]
    },
    "62d7ffe4d007499ba93f2df2fb29cc68": {
     "views": [
      {
       "cell_index": 3
      }
     ]
    },
    "7239d8ab27324e4bb58ea496fc5dfb27": {
     "views": [
      {
       "cell_index": 3
      }
     ]
    },
    "7446a5800a74452a9029009e4677d585": {
     "views": [
      {
       "cell_index": 3
      }
     ]
    },
    "7d154dc2fe294d419616e451dc326c38": {
     "views": [
      {
       "cell_index": 3
      }
     ]
    },
    "7fce5295c09c49b7969a7b68d0a8a1da": {
     "views": [
      {
       "cell_index": 3
      }
     ]
    },
    "80bb4eaf6a6942249cb236a0e12c88e6": {
     "views": [
      {
       "cell_index": 3
      }
     ]
    },
    "821c928c232f409089b91a1c96a617ad": {
     "views": [
      {
       "cell_index": 3
      }
     ]
    },
    "85a0be4e96214020bbcf49da7b89a045": {
     "views": [
      {
       "cell_index": 3
      }
     ]
    },
    "86ea43b7080347eab3b31effe7b68457": {
     "views": [
      {
       "cell_index": 3
      }
     ]
    },
    "89c6bb43e6da47acb550c15fd4777bf4": {
     "views": [
      {
       "cell_index": 3
      }
     ]
    },
    "92a88903b35047ec8774c617ead14d78": {
     "views": [
      {
       "cell_index": 3
      }
     ]
    },
    "a091cc7cab5a4f68a9646437c52e0e27": {
     "views": [
      {
       "cell_index": 3
      }
     ]
    },
    "ac62781cc3f7489aa10d9d6309e723ed": {
     "views": [
      {
       "cell_index": 3
      }
     ]
    },
    "b8ebc084a7a64734b43d50014de3dfd7": {
     "views": [
      {
       "cell_index": 3
      }
     ]
    },
    "bb216f18b7af49759e6871348e5b5f0b": {
     "views": [
      {
       "cell_index": 3
      }
     ]
    },
    "c203e796225248adbce00ed6d7e59f82": {
     "views": [
      {
       "cell_index": 3
      }
     ]
    },
    "c936b7e10e3541ea8091fe5c264b2228": {
     "views": [
      {
       "cell_index": 3
      }
     ]
    },
    "cb17b8a31da44d6ca0b530cc0e545acb": {
     "views": [
      {
       "cell_index": 3
      }
     ]
    },
    "d525ad8c881d4c2288e3621cdc49cde9": {
     "views": [
      {
       "cell_index": 3
      }
     ]
    },
    "ea3746154afa47b3aac1edcc9dec9634": {
     "views": [
      {
       "cell_index": 3
      }
     ]
    }
   },
   "version": "1.2.0"
  }
 },
 "nbformat": 4,
 "nbformat_minor": 0
}
