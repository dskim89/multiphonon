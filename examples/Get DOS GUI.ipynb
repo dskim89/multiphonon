{
 "cells": [
  {
   "cell_type": "code",
   "execution_count": 1,
   "metadata": {
    "collapsed": true
   },
   "outputs": [],
   "source": [
    "# Change this line\n",
    "eventnxs = \"/SNS/ARCS/2012_2_18_CAL/0/30585/NeXus/ARCS_30585_event.nxs\""
   ]
  },
  {
   "cell_type": "code",
   "execution_count": 3,
   "metadata": {
    "collapsed": false
   },
   "outputs": [],
   "source": [
    "from multiphonon.getdos import notebookUI\n",
    "notebookUI(eventnxs)"
   ]
  },
  {
   "cell_type": "code",
   "execution_count": 2,
   "metadata": {
    "collapsed": false
   },
   "outputs": [],
   "source": [
    "from multiphonon.getdos import notebookUI\n",
    "notebookUI(eventnxs, load_options_path=\"./work/getdos-opts.yaml\")"
   ]
  },
  {
   "cell_type": "code",
   "execution_count": null,
   "metadata": {
    "collapsed": true
   },
   "outputs": [],
   "source": []
  }
 ],
 "metadata": {
  "kernelspec": {
   "display_name": "Python 2",
   "language": "python",
   "name": "python2"
  },
  "language_info": {
   "codemirror_mode": {
    "name": "ipython",
    "version": 2
   },
   "file_extension": ".py",
   "mimetype": "text/x-python",
   "name": "python",
   "nbconvert_exporter": "python",
   "pygments_lexer": "ipython2",
   "version": "2.7.12"
  },
  "widgets": {
   "state": {
    "0ddac8d062ad48ae8cb9a5d13a35a3eb": {
     "views": [
      {
       "cell_index": 1
      }
     ]
    },
    "12f9de390c6d4ccebc84bc15a6bc9e2e": {
     "views": [
      {
       "cell_index": 2
      }
     ]
    },
    "1809ea4207294e29bdf70e4472366894": {
     "views": [
      {
       "cell_index": 1
      }
     ]
    },
    "1a067d8e2fda489f8e668585f71c9f2f": {
     "views": [
      {
       "cell_index": 2
      }
     ]
    },
    "20d56740d3144577b6bc7e34958bbdd0": {
     "views": [
      {
       "cell_index": 1
      }
     ]
    },
    "24d63406ea924f4ca4cdd60ea02607a0": {
     "views": [
      {
       "cell_index": 1
      }
     ]
    },
    "279ff3b5ebb64f9a9bc5a5687af5c52c": {
     "views": [
      {
       "cell_index": 2
      }
     ]
    },
    "2b4328bc9f5342038132290d3236c034": {
     "views": [
      {
       "cell_index": 1
      }
     ]
    },
    "2d3c08a3a80e4305b52f1f105d910c49": {
     "views": [
      {
       "cell_index": 1
      }
     ]
    },
    "2e499992d10a459d8d5bab526bbaa91f": {
     "views": [
      {
       "cell_index": 1
      }
     ]
    },
    "351dbbad38f34ad1983a2b03d3c610fd": {
     "views": [
      {
       "cell_index": 1
      }
     ]
    },
    "38fca6e477e34c8e8056b0c109f59b7c": {
     "views": [
      {
       "cell_index": 1
      }
     ]
    },
    "3baf00fdda334b7d9dacd1e28b0a67b8": {
     "views": [
      {
       "cell_index": 2
      }
     ]
    },
    "3c3e9a24da084986aa66a7711ce575f6": {
     "views": [
      {
       "cell_index": 2
      }
     ]
    },
    "3d0938941f3248e89694f0dcf40d1e01": {
     "views": [
      {
       "cell_index": 1
      }
     ]
    },
    "3d27065cc8de419d921b362be74a1e06": {
     "views": [
      {
       "cell_index": 2
      }
     ]
    },
    "40f125db63144accb2ed7e62d7ba5055": {
     "views": [
      {
       "cell_index": 1
      }
     ]
    },
    "42763a82e6134233b2102d78874331f4": {
     "views": [
      {
       "cell_index": 1
      }
     ]
    },
    "460fa8a38b9047318fdf9147fec94082": {
     "views": [
      {
       "cell_index": 1
      }
     ]
    },
    "4987cabaffbd44738d08c901147e0e6b": {
     "views": [
      {
       "cell_index": 1
      }
     ]
    },
    "4b1ca17ab0054cb59c41986a5bf724a7": {
     "views": [
      {
       "cell_index": 1
      }
     ]
    },
    "4e6abd7160c54e33913623656f113c02": {
     "views": [
      {
       "cell_index": 1
      }
     ]
    },
    "4ea0683e2ee14b49ba2823a6caabffd1": {
     "views": [
      {
       "cell_index": 1
      }
     ]
    },
    "4ff0c661180547e3811f3a2cfe12a998": {
     "views": [
      {
       "cell_index": 2
      }
     ]
    },
    "52d2f49d0a1e4cce8d3913f652639f63": {
     "views": [
      {
       "cell_index": 1
      }
     ]
    },
    "55b4ea61d2964d56987ab79d6ef2eb62": {
     "views": [
      {
       "cell_index": 1
      }
     ]
    },
    "563c450a60c84d65a98f5251f897380b": {
     "views": [
      {
       "cell_index": 1
      }
     ]
    },
    "599f1318a55c4c6cb3d5b8527ced2654": {
     "views": [
      {
       "cell_index": 1
      }
     ]
    },
    "5bda251236be4bbf8bada4909c79fd6e": {
     "views": [
      {
       "cell_index": 1
      }
     ]
    },
    "5ecb4189fb184b4495fefe1c60b97637": {
     "views": [
      {
       "cell_index": 1
      }
     ]
    },
    "5f3b5234ed144a2993a8ae85237e47b5": {
     "views": [
      {
       "cell_index": 2
      }
     ]
    },
    "60002908850f4bc89e689dec6fb6aeb3": {
     "views": [
      {
       "cell_index": 1
      }
     ]
    },
    "6094506ddf674adebacd293f7ef9af33": {
     "views": [
      {
       "cell_index": 1
      }
     ]
    },
    "61d089b5786a4b47b52d900297391851": {
     "views": [
      {
       "cell_index": 1
      }
     ]
    },
    "627cc35dc65949f18c0711475b0544ed": {
     "views": [
      {
       "cell_index": 1
      }
     ]
    },
    "62ace0e51e634bd1b76403d49c940489": {
     "views": [
      {
       "cell_index": 2
      }
     ]
    },
    "634883045f39490b961cdd784cb5c08e": {
     "views": [
      {
       "cell_index": 1
      }
     ]
    },
    "63cc84a7252f4fe78c23de768a4f6318": {
     "views": [
      {
       "cell_index": 1
      }
     ]
    },
    "64a60aeb5c814d0f8c43acb56ca7c5f5": {
     "views": [
      {
       "cell_index": 2
      }
     ]
    },
    "6af8481ce0414af19d0944582678f247": {
     "views": [
      {
       "cell_index": 2
      }
     ]
    },
    "6b1a2f27bfab460ca3aed9a5a683da64": {
     "views": [
      {
       "cell_index": 2
      }
     ]
    },
    "6b769911db6b41eabe2e5299710674cb": {
     "views": [
      {
       "cell_index": 1
      }
     ]
    },
    "6bbed9cde6b64c3f989e6f68420e528b": {
     "views": [
      {
       "cell_index": 1
      }
     ]
    },
    "6bde4be951e74831a84f40c6719b6a2d": {
     "views": [
      {
       "cell_index": 1
      }
     ]
    },
    "706da0962b434221ab9909cb1fcc9ea1": {
     "views": [
      {
       "cell_index": 1
      }
     ]
    },
    "728dee50f9bc482689a457ccff2232ab": {
     "views": [
      {
       "cell_index": 2
      }
     ]
    },
    "733cb1537f7d4dc88e600ef139dccf08": {
     "views": [
      {
       "cell_index": 2
      }
     ]
    },
    "74440024034a4bf2ad895afeb4bf5c29": {
     "views": [
      {
       "cell_index": 1
      }
     ]
    },
    "769e04bad49345e98704de32b64eb697": {
     "views": [
      {
       "cell_index": 1
      }
     ]
    },
    "7c49fbaf82424913bbeaf96a099a1841": {
     "views": [
      {
       "cell_index": 2
      }
     ]
    },
    "7cdb48117d0246c1bcde8ff60c328a4c": {
     "views": [
      {
       "cell_index": 2
      }
     ]
    },
    "7f20182665b142699bdfc65f3b538719": {
     "views": [
      {
       "cell_index": 1
      }
     ]
    },
    "80175bf10deb48a892daaef73facc431": {
     "views": [
      {
       "cell_index": 1
      }
     ]
    },
    "84a5d41c5b7f4559a471f4b03acd2f20": {
     "views": [
      {
       "cell_index": 1
      }
     ]
    },
    "8a5dd466886c4e01b5a11ecb06ebcee0": {
     "views": [
      {
       "cell_index": 2
      }
     ]
    },
    "8b2cbe1990c04dda9bf0d4c904751c02": {
     "views": [
      {
       "cell_index": 1
      }
     ]
    },
    "8ef57a4c33af43cc81732a05f7ac2095": {
     "views": [
      {
       "cell_index": 2
      }
     ]
    },
    "930cda7d35124d7c88069b97bcff41e9": {
     "views": [
      {
       "cell_index": 1
      }
     ]
    },
    "941c3277a3a84ddfa4b035cb7581f069": {
     "views": [
      {
       "cell_index": 1
      }
     ]
    },
    "94c7d84418954bd1bb2bb9ed19d171f6": {
     "views": [
      {
       "cell_index": 1
      }
     ]
    },
    "97e36d80bfb64213a3628755a663d724": {
     "views": [
      {
       "cell_index": 1
      }
     ]
    },
    "9c31c03b71d64d5882649ba7bc13a392": {
     "views": [
      {
       "cell_index": 1
      }
     ]
    },
    "9c48f6c82ede4bda9f1558cf21d056e4": {
     "views": [
      {
       "cell_index": 1
      }
     ]
    },
    "9c8425d4e9c84b949ea8708f30bf5e85": {
     "views": [
      {
       "cell_index": 1
      }
     ]
    },
    "9e2cad28bdbd45e1ad86fc076877c8f8": {
     "views": [
      {
       "cell_index": 1
      }
     ]
    },
    "b0a6a5cdffb74da5a0d3675b3f758a07": {
     "views": [
      {
       "cell_index": 1
      }
     ]
    },
    "b31baa060ca541fda8ceb7920c56e49a": {
     "views": [
      {
       "cell_index": 1
      }
     ]
    },
    "b47184ef9b0642b9bc2a116d198ac278": {
     "views": [
      {
       "cell_index": 1
      }
     ]
    },
    "b4a2837bce714f188efcf5ef2ce2b511": {
     "views": [
      {
       "cell_index": 1
      }
     ]
    },
    "b6513b5bc93a4605bd0a1997dff35c79": {
     "views": [
      {
       "cell_index": 2
      }
     ]
    },
    "b887f68718594b7bb2ca21715c65f303": {
     "views": [
      {
       "cell_index": 1
      }
     ]
    },
    "bd796b5b5c554899b2e38f961e88753d": {
     "views": [
      {
       "cell_index": 2
      }
     ]
    },
    "c0e07d4c36f04f6b8f2e60a371829fa7": {
     "views": [
      {
       "cell_index": 1
      }
     ]
    },
    "c12d6345a39d434c9eb0bc4bcd9851f2": {
     "views": [
      {
       "cell_index": 1
      }
     ]
    },
    "c96bd935fbbf47c2bb9ebf923d6eaefd": {
     "views": [
      {
       "cell_index": 1
      }
     ]
    },
    "cc95f4bea3524552895acbe92cbc2ec1": {
     "views": [
      {
       "cell_index": 1
      }
     ]
    },
    "d0b5e5eb797a45579c0855615a548bcb": {
     "views": [
      {
       "cell_index": 2
      }
     ]
    },
    "d0e47ac7403b4355a6a1c2f14fe4c160": {
     "views": [
      {
       "cell_index": 1
      }
     ]
    },
    "d3b04956ee8f44bfb7f2f45936df7b5c": {
     "views": [
      {
       "cell_index": 1
      }
     ]
    },
    "d7fed9db71f04e87b30badc88583969d": {
     "views": [
      {
       "cell_index": 1
      }
     ]
    },
    "d87e2edb56be479fb54cdf853d94ca5f": {
     "views": [
      {
       "cell_index": 1
      }
     ]
    },
    "d8fc1dd67c63474d82430fe7fea2e15a": {
     "views": [
      {
       "cell_index": 1
      }
     ]
    },
    "df3c62078b344b6fbbd205f68dfd5c60": {
     "views": [
      {
       "cell_index": 1
      }
     ]
    },
    "e2682305d4004115be94406148851845": {
     "views": [
      {
       "cell_index": 1
      }
     ]
    },
    "e5415cf422d94a968783e910203e32d7": {
     "views": [
      {
       "cell_index": 1
      }
     ]
    },
    "e5b4b1e0e5154ac5aa64ac374a81afb6": {
     "views": [
      {
       "cell_index": 1
      }
     ]
    },
    "e8a2990b47b14d61b6373bec35c64885": {
     "views": [
      {
       "cell_index": 1
      }
     ]
    },
    "f341471bf685476fa2272428cca3cb13": {
     "views": [
      {
       "cell_index": 1
      }
     ]
    },
    "f4eb02d5d58646c7be430d8eb3ae07cd": {
     "views": [
      {
       "cell_index": 2
      }
     ]
    },
    "f97a3004699d40b389f47853a103e9f9": {
     "views": [
      {
       "cell_index": 1
      }
     ]
    },
    "f99faae0f7e34a308d0d024363612560": {
     "views": [
      {
       "cell_index": 1
      }
     ]
    },
    "f9d216ddf6064f3e880de732836491db": {
     "views": [
      {
       "cell_index": 1
      }
     ]
    },
    "fcba3f385e5d4c05802431ccb6cf6b14": {
     "views": [
      {
       "cell_index": 1
      }
     ]
    }
   },
   "version": "1.2.0"
  }
 },
 "nbformat": 4,
 "nbformat_minor": 0
}
