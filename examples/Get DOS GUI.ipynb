{
 "cells": [
  {
   "cell_type": "code",
   "execution_count": 1,
   "metadata": {
    "collapsed": true
   },
   "outputs": [],
   "source": [
    "# Change this line\n",
    "eventnxs = \"/SNS/ARCS/2012_2_18_CAL/0/30585/NeXus/ARCS_30585_event.nxs\""
   ]
  },
  {
   "cell_type": "code",
   "execution_count": 2,
   "metadata": {
    "collapsed": false
   },
   "outputs": [
    {
     "name": "stdout",
     "output_type": "stream",
     "text": [
      "reducing...\n"
     ]
    }
   ],
   "source": [
    "from multiphonon.getdos import notebookUI\n",
    "notebookUI(eventnxs)"
   ]
  },
  {
   "cell_type": "code",
   "execution_count": null,
   "metadata": {
    "collapsed": true
   },
   "outputs": [],
   "source": []
  }
 ],
 "metadata": {
  "kernelspec": {
   "display_name": "Python 2",
   "language": "python",
   "name": "python2"
  },
  "language_info": {
   "codemirror_mode": {
    "name": "ipython",
    "version": 2
   },
   "file_extension": ".py",
   "mimetype": "text/x-python",
   "name": "python",
   "nbconvert_exporter": "python",
   "pygments_lexer": "ipython2",
   "version": "2.7.12"
  },
  "widgets": {
   "state": {
    "056db799d5e749c492dc6a32923b06ec": {
     "views": [
      {
       "cell_index": 3
      }
     ]
    },
    "10dc57d243474a9caf8525d4f3238cc8": {
     "views": [
      {
       "cell_index": 3
      }
     ]
    },
    "1e44eacd30914a6d88538ae00da3966c": {
     "views": [
      {
       "cell_index": 3
      }
     ]
    },
    "294524e649ce44d2867a5be9b9e25e5a": {
     "views": [
      {
       "cell_index": 3
      }
     ]
    },
    "2be8a5718d7f4ef284e87be327d1f6cb": {
     "views": [
      {
       "cell_index": 3
      }
     ]
    },
    "2cd3b1636e5f41b69505a3808347a5e2": {
     "views": [
      {
       "cell_index": 2
      }
     ]
    },
    "3d3c6ad816114a9c842b38c89d33e713": {
     "views": [
      {
       "cell_index": 3
      }
     ]
    },
    "3e27ecd7393545bbb24ca24e0a0ea464": {
     "views": [
      {
       "cell_index": 2
      }
     ]
    },
    "46413451412042eaaaddf1f994ded077": {
     "views": [
      {
       "cell_index": 2
      }
     ]
    },
    "554c227f0f224897b4666f9f05514479": {
     "views": [
      {
       "cell_index": 3
      }
     ]
    },
    "62d7ffe4d007499ba93f2df2fb29cc68": {
     "views": [
      {
       "cell_index": 3
      }
     ]
    },
    "6f068400d41c46e1ae134769cb277e98": {
     "views": [
      {
       "cell_index": 2
      }
     ]
    },
    "7446a5800a74452a9029009e4677d585": {
     "views": [
      {
       "cell_index": 3
      }
     ]
    },
    "752227ae8298414b9e68ac471bb8903a": {
     "views": [
      {
       "cell_index": 2
      }
     ]
    },
    "7d154dc2fe294d419616e451dc326c38": {
     "views": [
      {
       "cell_index": 3
      }
     ]
    },
    "7fce5295c09c49b7969a7b68d0a8a1da": {
     "views": [
      {
       "cell_index": 3
      }
     ]
    },
    "821c928c232f409089b91a1c96a617ad": {
     "views": [
      {
       "cell_index": 3
      }
     ]
    },
    "85a0be4e96214020bbcf49da7b89a045": {
     "views": [
      {
       "cell_index": 3
      }
     ]
    },
    "89c6bb43e6da47acb550c15fd4777bf4": {
     "views": [
      {
       "cell_index": 3
      }
     ]
    },
    "92a88903b35047ec8774c617ead14d78": {
     "views": [
      {
       "cell_index": 3
      }
     ]
    },
    "97e05c8e4727439ab65e1f89ef24f0be": {
     "views": [
      {
       "cell_index": 2
      }
     ]
    },
    "9be8897d7d1b44eb85a1c36ba8ecaa29": {
     "views": [
      {
       "cell_index": 2
      }
     ]
    },
    "a091cc7cab5a4f68a9646437c52e0e27": {
     "views": [
      {
       "cell_index": 3
      }
     ]
    },
    "ac034e821d614aedb3182580a5d22fd7": {
     "views": [
      {
       "cell_index": 2
      }
     ]
    },
    "ac62781cc3f7489aa10d9d6309e723ed": {
     "views": [
      {
       "cell_index": 3
      }
     ]
    },
    "aecf3a959f7341679a61625528e748b6": {
     "views": [
      {
       "cell_index": 2
      }
     ]
    },
    "b8ebc084a7a64734b43d50014de3dfd7": {
     "views": [
      {
       "cell_index": 3
      }
     ]
    },
    "bb216f18b7af49759e6871348e5b5f0b": {
     "views": [
      {
       "cell_index": 3
      }
     ]
    },
    "be1baa0470d34e7f98486747a6f56537": {
     "views": [
      {
       "cell_index": 2
      }
     ]
    },
    "c87a2c5552bf44cfbc9e3efecc4d33c4": {
     "views": [
      {
       "cell_index": 2
      }
     ]
    },
    "cb17b8a31da44d6ca0b530cc0e545acb": {
     "views": [
      {
       "cell_index": 3
      }
     ]
    },
    "d525ad8c881d4c2288e3621cdc49cde9": {
     "views": [
      {
       "cell_index": 3
      }
     ]
    },
    "ddf64de39b2d42738673f99289fe35f5": {
     "views": [
      {
       "cell_index": 2
      }
     ]
    },
    "e1230388f7f748d987766e284e91f5a7": {
     "views": [
      {
       "cell_index": 2
      }
     ]
    },
    "f143f06b8faf4b99add979394a7edfee": {
     "views": [
      {
       "cell_index": 2
      }
     ]
    }
   },
   "version": "1.2.0"
  }
 },
 "nbformat": 4,
 "nbformat_minor": 0
}
