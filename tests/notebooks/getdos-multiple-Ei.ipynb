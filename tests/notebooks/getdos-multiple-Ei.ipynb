{
 "cells": [
  {
   "cell_type": "markdown",
   "metadata": {},
   "source": [
    "# Density of States Analysis Example\n",
    "* Given sample and empty-can data, compute phonon DOS\n",
    "* To use this notebook, first click jupyter menu File->Make a copy\n",
    "* Click the title of the copied jupyter notebook and change it to a new title\n",
    "* Start executing cells"
   ]
  },
  {
   "cell_type": "markdown",
   "metadata": {},
   "source": [
    "## Preparation"
   ]
  },
  {
   "cell_type": "code",
   "execution_count": 1,
   "metadata": {},
   "outputs": [
    {
     "name": "stdout",
     "output_type": "stream",
     "text": [
      "/SNS/users/lj7/dv/sns-chops/multiphonon/tests/notebooks\r\n"
     ]
    }
   ],
   "source": [
    "# where am I now?\n",
    "!pwd"
   ]
  },
  {
   "cell_type": "code",
   "execution_count": 2,
   "metadata": {},
   "outputs": [
    {
     "name": "stdout",
     "output_type": "stream",
     "text": [
      "/home/lj7/reduction/ARCS/getdos-multiple-Ei-demo\n"
     ]
    }
   ],
   "source": [
    "# create a new working directory and change into it\n",
    "workdir = '~/reduction/ARCS/getdos-multiple-Ei-demo'\n",
    "!mkdir -p {workdir}\n",
    "%cd {workdir}"
   ]
  },
  {
   "cell_type": "code",
   "execution_count": 3,
   "metadata": {
    "collapsed": true
   },
   "outputs": [],
   "source": [
    "# Data to reduce. Change the IPTS number and run numbers to suit your need\n",
    "samplenxs = \"/SNS/ARCS/IPTS-15398/shared/mantid_reduce/non-radC/non-radC_130p00.nxspe\"\n",
    "mtnxs = \"/SNS/ARCS/IPTS-15398/shared/mantid_reduce/MT/MT_130p00.nxspe\"\n",
    "initdos = '/SNS/ARCS/IPTS-15398/shared/getdos/graphite-Ei_300-dos.h5'"
   ]
  },
  {
   "cell_type": "markdown",
   "metadata": {},
   "source": [
    "## Run GetDOS"
   ]
  },
  {
   "cell_type": "code",
   "execution_count": 9,
   "metadata": {
    "collapsed": true
   },
   "outputs": [],
   "source": [
    "# import tools\n",
    "import os, numpy as np\n",
    "from multiphonon.getdos import notebookUI\n",
    "import histogram.hdf as hh, histogram as H\n",
    "%matplotlib notebook\n",
    "from matplotlib import pyplot as plt"
   ]
  },
  {
   "cell_type": "code",
   "execution_count": 5,
   "metadata": {
    "scrolled": true
   },
   "outputs": [
    {
     "data": {
      "application/vnd.jupyter.widget-view+json": {
       "model_id": "c46b1da1d1d34a6e97882fdfa61a3f4e"
      }
     },
     "metadata": {},
     "output_type": "display_data"
    },
    {
     "data": {
      "application/vnd.jupyter.widget-view+json": {
       "model_id": "02996a5b816b427cb99da655631bb537"
      }
     },
     "metadata": {},
     "output_type": "display_data"
    },
    {
     "data": {
      "application/vnd.jupyter.widget-view+json": {
       "model_id": "0c729ce364824314b5d3da05b9612f18"
      }
     },
     "metadata": {},
     "output_type": "display_data"
    },
    {
     "data": {
      "application/vnd.jupyter.widget-view+json": {
       "model_id": "92ce1511112b4da39d9d48ce059f196f"
      }
     },
     "metadata": {},
     "output_type": "display_data"
    },
    {
     "data": {
      "application/vnd.jupyter.widget-view+json": {
       "model_id": "784f040cadb04f498895df28d4a6c4b8"
      }
     },
     "metadata": {},
     "output_type": "display_data"
    },
    {
     "data": {
      "application/vnd.jupyter.widget-view+json": {
       "model_id": "6b2e9fc610494da6bb253a8174f8238e"
      }
     },
     "metadata": {},
     "output_type": "display_data"
    },
    {
     "data": {
      "application/vnd.jupyter.widget-view+json": {
       "model_id": "72b57e925a934b57966911f3b4211be6"
      }
     },
     "metadata": {},
     "output_type": "display_data"
    },
    {
     "data": {
      "application/vnd.jupyter.widget-view+json": {
       "model_id": "32891fa2e8c34da4978ed6e11ad7e51e"
      }
     },
     "metadata": {},
     "output_type": "display_data"
    },
    {
     "data": {
      "application/vnd.jupyter.widget-view+json": {
       "model_id": "092c6cc8a5754f2ca9027e365c1e37be"
      }
     },
     "metadata": {},
     "output_type": "display_data"
    },
    {
     "data": {
      "application/vnd.jupyter.widget-view+json": {
       "model_id": "f7d5165deace460fa23dc0011ca649e9"
      }
     },
     "metadata": {},
     "output_type": "display_data"
    },
    {
     "data": {
      "application/vnd.jupyter.widget-view+json": {
       "model_id": "07ceb1863890440fbfc03522b763382e"
      }
     },
     "metadata": {},
     "output_type": "display_data"
    },
    {
     "data": {
      "application/vnd.jupyter.widget-view+json": {
       "model_id": "7236d9195c0541d6bb818e649f7ab2db"
      }
     },
     "metadata": {},
     "output_type": "display_data"
    },
    {
     "data": {
      "application/vnd.jupyter.widget-view+json": {
       "model_id": "8cb13f9a7aba422080277da2835c99e7"
      }
     },
     "metadata": {},
     "output_type": "display_data"
    },
    {
     "data": {
      "application/vnd.jupyter.widget-view+json": {
       "model_id": "138d3c8e02c44054bfdb172f87d4bc86"
      }
     },
     "metadata": {},
     "output_type": "display_data"
    },
    {
     "data": {
      "application/vnd.jupyter.widget-view+json": {
       "model_id": "d677c4de962041479618a406a787b154"
      }
     },
     "metadata": {},
     "output_type": "display_data"
    },
    {
     "data": {
      "application/vnd.jupyter.widget-view+json": {
       "model_id": "9e7ccab547be4f7a9eb7884e671dfb94"
      }
     },
     "metadata": {},
     "output_type": "display_data"
    },
    {
     "data": {
      "application/vnd.jupyter.widget-view+json": {
       "model_id": "30206d76429144039628fcb2d93b4bc2"
      }
     },
     "metadata": {},
     "output_type": "display_data"
    },
    {
     "data": {
      "application/vnd.jupyter.widget-view+json": {
       "model_id": "6b193cabb6ec4274b9108185d41b094f"
      }
     },
     "metadata": {},
     "output_type": "display_data"
    }
   ],
   "source": [
    "# create the UI for the first time\n",
    "notebookUI(samplenxs, mtnxs, initdos=initdos, load_options_path='/SNS/ARCS/IPTS-15398/shared/getdos/130meV-getdos-opts.yaml')"
   ]
  },
  {
   "cell_type": "markdown",
   "metadata": {},
   "source": [
    "## Check output"
   ]
  },
  {
   "cell_type": "code",
   "execution_count": 6,
   "metadata": {},
   "outputs": [
    {
     "name": "stdout",
     "output_type": "stream",
     "text": [
      "\u001b[0m\u001b[01;34mdirdydos\u001b[0m/         iqe.h5.bkup-wrongEaxis     mt-iqe.nxs              \u001b[01;34mround-2\u001b[0m/\r\n",
      "final-dos.h5      iqe.nxs                    \u001b[01;32mplot_dos_iteration.py\u001b[0m*\r\n",
      "getdos-opts.yaml  mt-iqe.h5                  \u001b[01;34mround-0\u001b[0m/\r\n",
      "iqe.h5            mt-iqe.h5.bkup-wrongEaxis  \u001b[01;34mround-1\u001b[0m/\r\n"
     ]
    }
   ],
   "source": [
    "ls work/"
   ]
  },
  {
   "cell_type": "code",
   "execution_count": 16,
   "metadata": {},
   "outputs": [
    {
     "data": {
      "application/javascript": [
       "/* Put everything inside the global mpl namespace */\n",
       "window.mpl = {};\n",
       "\n",
       "mpl.get_websocket_type = function() {\n",
       "    if (typeof(WebSocket) !== 'undefined') {\n",
       "        return WebSocket;\n",
       "    } else if (typeof(MozWebSocket) !== 'undefined') {\n",
       "        return MozWebSocket;\n",
       "    } else {\n",
       "        alert('Your browser does not have WebSocket support.' +\n",
       "              'Please try Chrome, Safari or Firefox ≥ 6. ' +\n",
       "              'Firefox 4 and 5 are also supported but you ' +\n",
       "              'have to enable WebSockets in about:config.');\n",
       "    };\n",
       "}\n",
       "\n",
       "mpl.figure = function(figure_id, websocket, ondownload, parent_element) {\n",
       "    this.id = figure_id;\n",
       "\n",
       "    this.ws = websocket;\n",
       "\n",
       "    this.supports_binary = (this.ws.binaryType != undefined);\n",
       "\n",
       "    if (!this.supports_binary) {\n",
       "        var warnings = document.getElementById(\"mpl-warnings\");\n",
       "        if (warnings) {\n",
       "            warnings.style.display = 'block';\n",
       "            warnings.textContent = (\n",
       "                \"This browser does not support binary websocket messages. \" +\n",
       "                    \"Performance may be slow.\");\n",
       "        }\n",
       "    }\n",
       "\n",
       "    this.imageObj = new Image();\n",
       "\n",
       "    this.context = undefined;\n",
       "    this.message = undefined;\n",
       "    this.canvas = undefined;\n",
       "    this.rubberband_canvas = undefined;\n",
       "    this.rubberband_context = undefined;\n",
       "    this.format_dropdown = undefined;\n",
       "\n",
       "    this.image_mode = 'full';\n",
       "\n",
       "    this.root = $('<div/>');\n",
       "    this._root_extra_style(this.root)\n",
       "    this.root.attr('style', 'display: inline-block');\n",
       "\n",
       "    $(parent_element).append(this.root);\n",
       "\n",
       "    this._init_header(this);\n",
       "    this._init_canvas(this);\n",
       "    this._init_toolbar(this);\n",
       "\n",
       "    var fig = this;\n",
       "\n",
       "    this.waiting = false;\n",
       "\n",
       "    this.ws.onopen =  function () {\n",
       "            fig.send_message(\"supports_binary\", {value: fig.supports_binary});\n",
       "            fig.send_message(\"send_image_mode\", {});\n",
       "            fig.send_message(\"refresh\", {});\n",
       "        }\n",
       "\n",
       "    this.imageObj.onload = function() {\n",
       "            if (fig.image_mode == 'full') {\n",
       "                // Full images could contain transparency (where diff images\n",
       "                // almost always do), so we need to clear the canvas so that\n",
       "                // there is no ghosting.\n",
       "                fig.context.clearRect(0, 0, fig.canvas.width, fig.canvas.height);\n",
       "            }\n",
       "            fig.context.drawImage(fig.imageObj, 0, 0);\n",
       "        };\n",
       "\n",
       "    this.imageObj.onunload = function() {\n",
       "        this.ws.close();\n",
       "    }\n",
       "\n",
       "    this.ws.onmessage = this._make_on_message_function(this);\n",
       "\n",
       "    this.ondownload = ondownload;\n",
       "}\n",
       "\n",
       "mpl.figure.prototype._init_header = function() {\n",
       "    var titlebar = $(\n",
       "        '<div class=\"ui-dialog-titlebar ui-widget-header ui-corner-all ' +\n",
       "        'ui-helper-clearfix\"/>');\n",
       "    var titletext = $(\n",
       "        '<div class=\"ui-dialog-title\" style=\"width: 100%; ' +\n",
       "        'text-align: center; padding: 3px;\"/>');\n",
       "    titlebar.append(titletext)\n",
       "    this.root.append(titlebar);\n",
       "    this.header = titletext[0];\n",
       "}\n",
       "\n",
       "\n",
       "\n",
       "mpl.figure.prototype._canvas_extra_style = function(canvas_div) {\n",
       "\n",
       "}\n",
       "\n",
       "\n",
       "mpl.figure.prototype._root_extra_style = function(canvas_div) {\n",
       "\n",
       "}\n",
       "\n",
       "mpl.figure.prototype._init_canvas = function() {\n",
       "    var fig = this;\n",
       "\n",
       "    var canvas_div = $('<div/>');\n",
       "\n",
       "    canvas_div.attr('style', 'position: relative; clear: both; outline: 0');\n",
       "\n",
       "    function canvas_keyboard_event(event) {\n",
       "        return fig.key_event(event, event['data']);\n",
       "    }\n",
       "\n",
       "    canvas_div.keydown('key_press', canvas_keyboard_event);\n",
       "    canvas_div.keyup('key_release', canvas_keyboard_event);\n",
       "    this.canvas_div = canvas_div\n",
       "    this._canvas_extra_style(canvas_div)\n",
       "    this.root.append(canvas_div);\n",
       "\n",
       "    var canvas = $('<canvas/>');\n",
       "    canvas.addClass('mpl-canvas');\n",
       "    canvas.attr('style', \"left: 0; top: 0; z-index: 0; outline: 0\")\n",
       "\n",
       "    this.canvas = canvas[0];\n",
       "    this.context = canvas[0].getContext(\"2d\");\n",
       "\n",
       "    var rubberband = $('<canvas/>');\n",
       "    rubberband.attr('style', \"position: absolute; left: 0; top: 0; z-index: 1;\")\n",
       "\n",
       "    var pass_mouse_events = true;\n",
       "\n",
       "    canvas_div.resizable({\n",
       "        start: function(event, ui) {\n",
       "            pass_mouse_events = false;\n",
       "        },\n",
       "        resize: function(event, ui) {\n",
       "            fig.request_resize(ui.size.width, ui.size.height);\n",
       "        },\n",
       "        stop: function(event, ui) {\n",
       "            pass_mouse_events = true;\n",
       "            fig.request_resize(ui.size.width, ui.size.height);\n",
       "        },\n",
       "    });\n",
       "\n",
       "    function mouse_event_fn(event) {\n",
       "        if (pass_mouse_events)\n",
       "            return fig.mouse_event(event, event['data']);\n",
       "    }\n",
       "\n",
       "    rubberband.mousedown('button_press', mouse_event_fn);\n",
       "    rubberband.mouseup('button_release', mouse_event_fn);\n",
       "    // Throttle sequential mouse events to 1 every 20ms.\n",
       "    rubberband.mousemove('motion_notify', mouse_event_fn);\n",
       "\n",
       "    rubberband.mouseenter('figure_enter', mouse_event_fn);\n",
       "    rubberband.mouseleave('figure_leave', mouse_event_fn);\n",
       "\n",
       "    canvas_div.on(\"wheel\", function (event) {\n",
       "        event = event.originalEvent;\n",
       "        event['data'] = 'scroll'\n",
       "        if (event.deltaY < 0) {\n",
       "            event.step = 1;\n",
       "        } else {\n",
       "            event.step = -1;\n",
       "        }\n",
       "        mouse_event_fn(event);\n",
       "    });\n",
       "\n",
       "    canvas_div.append(canvas);\n",
       "    canvas_div.append(rubberband);\n",
       "\n",
       "    this.rubberband = rubberband;\n",
       "    this.rubberband_canvas = rubberband[0];\n",
       "    this.rubberband_context = rubberband[0].getContext(\"2d\");\n",
       "    this.rubberband_context.strokeStyle = \"#000000\";\n",
       "\n",
       "    this._resize_canvas = function(width, height) {\n",
       "        // Keep the size of the canvas, canvas container, and rubber band\n",
       "        // canvas in synch.\n",
       "        canvas_div.css('width', width)\n",
       "        canvas_div.css('height', height)\n",
       "\n",
       "        canvas.attr('width', width);\n",
       "        canvas.attr('height', height);\n",
       "\n",
       "        rubberband.attr('width', width);\n",
       "        rubberband.attr('height', height);\n",
       "    }\n",
       "\n",
       "    // Set the figure to an initial 600x600px, this will subsequently be updated\n",
       "    // upon first draw.\n",
       "    this._resize_canvas(600, 600);\n",
       "\n",
       "    // Disable right mouse context menu.\n",
       "    $(this.rubberband_canvas).bind(\"contextmenu\",function(e){\n",
       "        return false;\n",
       "    });\n",
       "\n",
       "    function set_focus () {\n",
       "        canvas.focus();\n",
       "        canvas_div.focus();\n",
       "    }\n",
       "\n",
       "    window.setTimeout(set_focus, 100);\n",
       "}\n",
       "\n",
       "mpl.figure.prototype._init_toolbar = function() {\n",
       "    var fig = this;\n",
       "\n",
       "    var nav_element = $('<div/>')\n",
       "    nav_element.attr('style', 'width: 100%');\n",
       "    this.root.append(nav_element);\n",
       "\n",
       "    // Define a callback function for later on.\n",
       "    function toolbar_event(event) {\n",
       "        return fig.toolbar_button_onclick(event['data']);\n",
       "    }\n",
       "    function toolbar_mouse_event(event) {\n",
       "        return fig.toolbar_button_onmouseover(event['data']);\n",
       "    }\n",
       "\n",
       "    for(var toolbar_ind in mpl.toolbar_items) {\n",
       "        var name = mpl.toolbar_items[toolbar_ind][0];\n",
       "        var tooltip = mpl.toolbar_items[toolbar_ind][1];\n",
       "        var image = mpl.toolbar_items[toolbar_ind][2];\n",
       "        var method_name = mpl.toolbar_items[toolbar_ind][3];\n",
       "\n",
       "        if (!name) {\n",
       "            // put a spacer in here.\n",
       "            continue;\n",
       "        }\n",
       "        var button = $('<button/>');\n",
       "        button.addClass('ui-button ui-widget ui-state-default ui-corner-all ' +\n",
       "                        'ui-button-icon-only');\n",
       "        button.attr('role', 'button');\n",
       "        button.attr('aria-disabled', 'false');\n",
       "        button.click(method_name, toolbar_event);\n",
       "        button.mouseover(tooltip, toolbar_mouse_event);\n",
       "\n",
       "        var icon_img = $('<span/>');\n",
       "        icon_img.addClass('ui-button-icon-primary ui-icon');\n",
       "        icon_img.addClass(image);\n",
       "        icon_img.addClass('ui-corner-all');\n",
       "\n",
       "        var tooltip_span = $('<span/>');\n",
       "        tooltip_span.addClass('ui-button-text');\n",
       "        tooltip_span.html(tooltip);\n",
       "\n",
       "        button.append(icon_img);\n",
       "        button.append(tooltip_span);\n",
       "\n",
       "        nav_element.append(button);\n",
       "    }\n",
       "\n",
       "    var fmt_picker_span = $('<span/>');\n",
       "\n",
       "    var fmt_picker = $('<select/>');\n",
       "    fmt_picker.addClass('mpl-toolbar-option ui-widget ui-widget-content');\n",
       "    fmt_picker_span.append(fmt_picker);\n",
       "    nav_element.append(fmt_picker_span);\n",
       "    this.format_dropdown = fmt_picker[0];\n",
       "\n",
       "    for (var ind in mpl.extensions) {\n",
       "        var fmt = mpl.extensions[ind];\n",
       "        var option = $(\n",
       "            '<option/>', {selected: fmt === mpl.default_extension}).html(fmt);\n",
       "        fmt_picker.append(option)\n",
       "    }\n",
       "\n",
       "    // Add hover states to the ui-buttons\n",
       "    $( \".ui-button\" ).hover(\n",
       "        function() { $(this).addClass(\"ui-state-hover\");},\n",
       "        function() { $(this).removeClass(\"ui-state-hover\");}\n",
       "    );\n",
       "\n",
       "    var status_bar = $('<span class=\"mpl-message\"/>');\n",
       "    nav_element.append(status_bar);\n",
       "    this.message = status_bar[0];\n",
       "}\n",
       "\n",
       "mpl.figure.prototype.request_resize = function(x_pixels, y_pixels) {\n",
       "    // Request matplotlib to resize the figure. Matplotlib will then trigger a resize in the client,\n",
       "    // which will in turn request a refresh of the image.\n",
       "    this.send_message('resize', {'width': x_pixels, 'height': y_pixels});\n",
       "}\n",
       "\n",
       "mpl.figure.prototype.send_message = function(type, properties) {\n",
       "    properties['type'] = type;\n",
       "    properties['figure_id'] = this.id;\n",
       "    this.ws.send(JSON.stringify(properties));\n",
       "}\n",
       "\n",
       "mpl.figure.prototype.send_draw_message = function() {\n",
       "    if (!this.waiting) {\n",
       "        this.waiting = true;\n",
       "        this.ws.send(JSON.stringify({type: \"draw\", figure_id: this.id}));\n",
       "    }\n",
       "}\n",
       "\n",
       "\n",
       "mpl.figure.prototype.handle_save = function(fig, msg) {\n",
       "    var format_dropdown = fig.format_dropdown;\n",
       "    var format = format_dropdown.options[format_dropdown.selectedIndex].value;\n",
       "    fig.ondownload(fig, format);\n",
       "}\n",
       "\n",
       "\n",
       "mpl.figure.prototype.handle_resize = function(fig, msg) {\n",
       "    var size = msg['size'];\n",
       "    if (size[0] != fig.canvas.width || size[1] != fig.canvas.height) {\n",
       "        fig._resize_canvas(size[0], size[1]);\n",
       "        fig.send_message(\"refresh\", {});\n",
       "    };\n",
       "}\n",
       "\n",
       "mpl.figure.prototype.handle_rubberband = function(fig, msg) {\n",
       "    var x0 = msg['x0'];\n",
       "    var y0 = fig.canvas.height - msg['y0'];\n",
       "    var x1 = msg['x1'];\n",
       "    var y1 = fig.canvas.height - msg['y1'];\n",
       "    x0 = Math.floor(x0) + 0.5;\n",
       "    y0 = Math.floor(y0) + 0.5;\n",
       "    x1 = Math.floor(x1) + 0.5;\n",
       "    y1 = Math.floor(y1) + 0.5;\n",
       "    var min_x = Math.min(x0, x1);\n",
       "    var min_y = Math.min(y0, y1);\n",
       "    var width = Math.abs(x1 - x0);\n",
       "    var height = Math.abs(y1 - y0);\n",
       "\n",
       "    fig.rubberband_context.clearRect(\n",
       "        0, 0, fig.canvas.width, fig.canvas.height);\n",
       "\n",
       "    fig.rubberband_context.strokeRect(min_x, min_y, width, height);\n",
       "}\n",
       "\n",
       "mpl.figure.prototype.handle_figure_label = function(fig, msg) {\n",
       "    // Updates the figure title.\n",
       "    fig.header.textContent = msg['label'];\n",
       "}\n",
       "\n",
       "mpl.figure.prototype.handle_cursor = function(fig, msg) {\n",
       "    var cursor = msg['cursor'];\n",
       "    switch(cursor)\n",
       "    {\n",
       "    case 0:\n",
       "        cursor = 'pointer';\n",
       "        break;\n",
       "    case 1:\n",
       "        cursor = 'default';\n",
       "        break;\n",
       "    case 2:\n",
       "        cursor = 'crosshair';\n",
       "        break;\n",
       "    case 3:\n",
       "        cursor = 'move';\n",
       "        break;\n",
       "    }\n",
       "    fig.rubberband_canvas.style.cursor = cursor;\n",
       "}\n",
       "\n",
       "mpl.figure.prototype.handle_message = function(fig, msg) {\n",
       "    fig.message.textContent = msg['message'];\n",
       "}\n",
       "\n",
       "mpl.figure.prototype.handle_draw = function(fig, msg) {\n",
       "    // Request the server to send over a new figure.\n",
       "    fig.send_draw_message();\n",
       "}\n",
       "\n",
       "mpl.figure.prototype.handle_image_mode = function(fig, msg) {\n",
       "    fig.image_mode = msg['mode'];\n",
       "}\n",
       "\n",
       "mpl.figure.prototype.updated_canvas_event = function() {\n",
       "    // Called whenever the canvas gets updated.\n",
       "    this.send_message(\"ack\", {});\n",
       "}\n",
       "\n",
       "// A function to construct a web socket function for onmessage handling.\n",
       "// Called in the figure constructor.\n",
       "mpl.figure.prototype._make_on_message_function = function(fig) {\n",
       "    return function socket_on_message(evt) {\n",
       "        if (evt.data instanceof Blob) {\n",
       "            /* FIXME: We get \"Resource interpreted as Image but\n",
       "             * transferred with MIME type text/plain:\" errors on\n",
       "             * Chrome.  But how to set the MIME type?  It doesn't seem\n",
       "             * to be part of the websocket stream */\n",
       "            evt.data.type = \"image/png\";\n",
       "\n",
       "            /* Free the memory for the previous frames */\n",
       "            if (fig.imageObj.src) {\n",
       "                (window.URL || window.webkitURL).revokeObjectURL(\n",
       "                    fig.imageObj.src);\n",
       "            }\n",
       "\n",
       "            fig.imageObj.src = (window.URL || window.webkitURL).createObjectURL(\n",
       "                evt.data);\n",
       "            fig.updated_canvas_event();\n",
       "            fig.waiting = false;\n",
       "            return;\n",
       "        }\n",
       "        else if (typeof evt.data === 'string' && evt.data.slice(0, 21) == \"data:image/png;base64\") {\n",
       "            fig.imageObj.src = evt.data;\n",
       "            fig.updated_canvas_event();\n",
       "            fig.waiting = false;\n",
       "            return;\n",
       "        }\n",
       "\n",
       "        var msg = JSON.parse(evt.data);\n",
       "        var msg_type = msg['type'];\n",
       "\n",
       "        // Call the  \"handle_{type}\" callback, which takes\n",
       "        // the figure and JSON message as its only arguments.\n",
       "        try {\n",
       "            var callback = fig[\"handle_\" + msg_type];\n",
       "        } catch (e) {\n",
       "            console.log(\"No handler for the '\" + msg_type + \"' message type: \", msg);\n",
       "            return;\n",
       "        }\n",
       "\n",
       "        if (callback) {\n",
       "            try {\n",
       "                // console.log(\"Handling '\" + msg_type + \"' message: \", msg);\n",
       "                callback(fig, msg);\n",
       "            } catch (e) {\n",
       "                console.log(\"Exception inside the 'handler_\" + msg_type + \"' callback:\", e, e.stack, msg);\n",
       "            }\n",
       "        }\n",
       "    };\n",
       "}\n",
       "\n",
       "// from http://stackoverflow.com/questions/1114465/getting-mouse-location-in-canvas\n",
       "mpl.findpos = function(e) {\n",
       "    //this section is from http://www.quirksmode.org/js/events_properties.html\n",
       "    var targ;\n",
       "    if (!e)\n",
       "        e = window.event;\n",
       "    if (e.target)\n",
       "        targ = e.target;\n",
       "    else if (e.srcElement)\n",
       "        targ = e.srcElement;\n",
       "    if (targ.nodeType == 3) // defeat Safari bug\n",
       "        targ = targ.parentNode;\n",
       "\n",
       "    // jQuery normalizes the pageX and pageY\n",
       "    // pageX,Y are the mouse positions relative to the document\n",
       "    // offset() returns the position of the element relative to the document\n",
       "    var x = e.pageX - $(targ).offset().left;\n",
       "    var y = e.pageY - $(targ).offset().top;\n",
       "\n",
       "    return {\"x\": x, \"y\": y};\n",
       "};\n",
       "\n",
       "/*\n",
       " * return a copy of an object with only non-object keys\n",
       " * we need this to avoid circular references\n",
       " * http://stackoverflow.com/a/24161582/3208463\n",
       " */\n",
       "function simpleKeys (original) {\n",
       "  return Object.keys(original).reduce(function (obj, key) {\n",
       "    if (typeof original[key] !== 'object')\n",
       "        obj[key] = original[key]\n",
       "    return obj;\n",
       "  }, {});\n",
       "}\n",
       "\n",
       "mpl.figure.prototype.mouse_event = function(event, name) {\n",
       "    var canvas_pos = mpl.findpos(event)\n",
       "\n",
       "    if (name === 'button_press')\n",
       "    {\n",
       "        this.canvas.focus();\n",
       "        this.canvas_div.focus();\n",
       "    }\n",
       "\n",
       "    var x = canvas_pos.x;\n",
       "    var y = canvas_pos.y;\n",
       "\n",
       "    this.send_message(name, {x: x, y: y, button: event.button,\n",
       "                             step: event.step,\n",
       "                             guiEvent: simpleKeys(event)});\n",
       "\n",
       "    /* This prevents the web browser from automatically changing to\n",
       "     * the text insertion cursor when the button is pressed.  We want\n",
       "     * to control all of the cursor setting manually through the\n",
       "     * 'cursor' event from matplotlib */\n",
       "    event.preventDefault();\n",
       "    return false;\n",
       "}\n",
       "\n",
       "mpl.figure.prototype._key_event_extra = function(event, name) {\n",
       "    // Handle any extra behaviour associated with a key event\n",
       "}\n",
       "\n",
       "mpl.figure.prototype.key_event = function(event, name) {\n",
       "\n",
       "    // Prevent repeat events\n",
       "    if (name == 'key_press')\n",
       "    {\n",
       "        if (event.which === this._key)\n",
       "            return;\n",
       "        else\n",
       "            this._key = event.which;\n",
       "    }\n",
       "    if (name == 'key_release')\n",
       "        this._key = null;\n",
       "\n",
       "    var value = '';\n",
       "    if (event.ctrlKey && event.which != 17)\n",
       "        value += \"ctrl+\";\n",
       "    if (event.altKey && event.which != 18)\n",
       "        value += \"alt+\";\n",
       "    if (event.shiftKey && event.which != 16)\n",
       "        value += \"shift+\";\n",
       "\n",
       "    value += 'k';\n",
       "    value += event.which.toString();\n",
       "\n",
       "    this._key_event_extra(event, name);\n",
       "\n",
       "    this.send_message(name, {key: value,\n",
       "                             guiEvent: simpleKeys(event)});\n",
       "    return false;\n",
       "}\n",
       "\n",
       "mpl.figure.prototype.toolbar_button_onclick = function(name) {\n",
       "    if (name == 'download') {\n",
       "        this.handle_save(this, null);\n",
       "    } else {\n",
       "        this.send_message(\"toolbar_button\", {name: name});\n",
       "    }\n",
       "};\n",
       "\n",
       "mpl.figure.prototype.toolbar_button_onmouseover = function(tooltip) {\n",
       "    this.message.textContent = tooltip;\n",
       "};\n",
       "mpl.toolbar_items = [[\"Home\", \"Reset original view\", \"fa fa-home icon-home\", \"home\"], [\"Back\", \"Back to  previous view\", \"fa fa-arrow-left icon-arrow-left\", \"back\"], [\"Forward\", \"Forward to next view\", \"fa fa-arrow-right icon-arrow-right\", \"forward\"], [\"\", \"\", \"\", \"\"], [\"Pan\", \"Pan axes with left mouse, zoom with right\", \"fa fa-arrows icon-move\", \"pan\"], [\"Zoom\", \"Zoom to rectangle\", \"fa fa-square-o icon-check-empty\", \"zoom\"], [\"\", \"\", \"\", \"\"], [\"Download\", \"Download plot\", \"fa fa-floppy-o icon-save\", \"download\"]];\n",
       "\n",
       "mpl.extensions = [\"eps\", \"pdf\", \"png\", \"ps\", \"raw\", \"svg\"];\n",
       "\n",
       "mpl.default_extension = \"png\";var comm_websocket_adapter = function(comm) {\n",
       "    // Create a \"websocket\"-like object which calls the given IPython comm\n",
       "    // object with the appropriate methods. Currently this is a non binary\n",
       "    // socket, so there is still some room for performance tuning.\n",
       "    var ws = {};\n",
       "\n",
       "    ws.close = function() {\n",
       "        comm.close()\n",
       "    };\n",
       "    ws.send = function(m) {\n",
       "        //console.log('sending', m);\n",
       "        comm.send(m);\n",
       "    };\n",
       "    // Register the callback with on_msg.\n",
       "    comm.on_msg(function(msg) {\n",
       "        //console.log('receiving', msg['content']['data'], msg);\n",
       "        // Pass the mpl event to the overriden (by mpl) onmessage function.\n",
       "        ws.onmessage(msg['content']['data'])\n",
       "    });\n",
       "    return ws;\n",
       "}\n",
       "\n",
       "mpl.mpl_figure_comm = function(comm, msg) {\n",
       "    // This is the function which gets called when the mpl process\n",
       "    // starts-up an IPython Comm through the \"matplotlib\" channel.\n",
       "\n",
       "    var id = msg.content.data.id;\n",
       "    // Get hold of the div created by the display call when the Comm\n",
       "    // socket was opened in Python.\n",
       "    var element = $(\"#\" + id);\n",
       "    var ws_proxy = comm_websocket_adapter(comm)\n",
       "\n",
       "    function ondownload(figure, format) {\n",
       "        window.open(figure.imageObj.src);\n",
       "    }\n",
       "\n",
       "    var fig = new mpl.figure(id, ws_proxy,\n",
       "                           ondownload,\n",
       "                           element.get(0));\n",
       "\n",
       "    // Call onopen now - mpl needs it, as it is assuming we've passed it a real\n",
       "    // web socket which is closed, not our websocket->open comm proxy.\n",
       "    ws_proxy.onopen();\n",
       "\n",
       "    fig.parent_element = element.get(0);\n",
       "    fig.cell_info = mpl.find_output_cell(\"<div id='\" + id + \"'></div>\");\n",
       "    if (!fig.cell_info) {\n",
       "        console.error(\"Failed to find cell for figure\", id, fig);\n",
       "        return;\n",
       "    }\n",
       "\n",
       "    var output_index = fig.cell_info[2]\n",
       "    var cell = fig.cell_info[0];\n",
       "\n",
       "};\n",
       "\n",
       "mpl.figure.prototype.handle_close = function(fig, msg) {\n",
       "    fig.root.unbind('remove')\n",
       "\n",
       "    // Update the output cell to use the data from the current canvas.\n",
       "    fig.push_to_output();\n",
       "    var dataURL = fig.canvas.toDataURL();\n",
       "    // Re-enable the keyboard manager in IPython - without this line, in FF,\n",
       "    // the notebook keyboard shortcuts fail.\n",
       "    IPython.keyboard_manager.enable()\n",
       "    $(fig.parent_element).html('<img src=\"' + dataURL + '\">');\n",
       "    fig.close_ws(fig, msg);\n",
       "}\n",
       "\n",
       "mpl.figure.prototype.close_ws = function(fig, msg){\n",
       "    fig.send_message('closing', msg);\n",
       "    // fig.ws.close()\n",
       "}\n",
       "\n",
       "mpl.figure.prototype.push_to_output = function(remove_interactive) {\n",
       "    // Turn the data on the canvas into data in the output cell.\n",
       "    var dataURL = this.canvas.toDataURL();\n",
       "    this.cell_info[1]['text/html'] = '<img src=\"' + dataURL + '\">';\n",
       "}\n",
       "\n",
       "mpl.figure.prototype.updated_canvas_event = function() {\n",
       "    // Tell IPython that the notebook contents must change.\n",
       "    IPython.notebook.set_dirty(true);\n",
       "    this.send_message(\"ack\", {});\n",
       "    var fig = this;\n",
       "    // Wait a second, then push the new image to the DOM so\n",
       "    // that it is saved nicely (might be nice to debounce this).\n",
       "    setTimeout(function () { fig.push_to_output() }, 1000);\n",
       "}\n",
       "\n",
       "mpl.figure.prototype._init_toolbar = function() {\n",
       "    var fig = this;\n",
       "\n",
       "    var nav_element = $('<div/>')\n",
       "    nav_element.attr('style', 'width: 100%');\n",
       "    this.root.append(nav_element);\n",
       "\n",
       "    // Define a callback function for later on.\n",
       "    function toolbar_event(event) {\n",
       "        return fig.toolbar_button_onclick(event['data']);\n",
       "    }\n",
       "    function toolbar_mouse_event(event) {\n",
       "        return fig.toolbar_button_onmouseover(event['data']);\n",
       "    }\n",
       "\n",
       "    for(var toolbar_ind in mpl.toolbar_items){\n",
       "        var name = mpl.toolbar_items[toolbar_ind][0];\n",
       "        var tooltip = mpl.toolbar_items[toolbar_ind][1];\n",
       "        var image = mpl.toolbar_items[toolbar_ind][2];\n",
       "        var method_name = mpl.toolbar_items[toolbar_ind][3];\n",
       "\n",
       "        if (!name) { continue; };\n",
       "\n",
       "        var button = $('<button class=\"btn btn-default\" href=\"#\" title=\"' + name + '\"><i class=\"fa ' + image + ' fa-lg\"></i></button>');\n",
       "        button.click(method_name, toolbar_event);\n",
       "        button.mouseover(tooltip, toolbar_mouse_event);\n",
       "        nav_element.append(button);\n",
       "    }\n",
       "\n",
       "    // Add the status bar.\n",
       "    var status_bar = $('<span class=\"mpl-message\" style=\"text-align:right; float: right;\"/>');\n",
       "    nav_element.append(status_bar);\n",
       "    this.message = status_bar[0];\n",
       "\n",
       "    // Add the close button to the window.\n",
       "    var buttongrp = $('<div class=\"btn-group inline pull-right\"></div>');\n",
       "    var button = $('<button class=\"btn btn-mini btn-primary\" href=\"#\" title=\"Stop Interaction\"><i class=\"fa fa-power-off icon-remove icon-large\"></i></button>');\n",
       "    button.click(function (evt) { fig.handle_close(fig, {}); } );\n",
       "    button.mouseover('Stop Interaction', toolbar_mouse_event);\n",
       "    buttongrp.append(button);\n",
       "    var titlebar = this.root.find($('.ui-dialog-titlebar'));\n",
       "    titlebar.prepend(buttongrp);\n",
       "}\n",
       "\n",
       "mpl.figure.prototype._root_extra_style = function(el){\n",
       "    var fig = this\n",
       "    el.on(\"remove\", function(){\n",
       "\tfig.close_ws(fig, {});\n",
       "    });\n",
       "}\n",
       "\n",
       "mpl.figure.prototype._canvas_extra_style = function(el){\n",
       "    // this is important to make the div 'focusable\n",
       "    el.attr('tabindex', 0)\n",
       "    // reach out to IPython and tell the keyboard manager to turn it's self\n",
       "    // off when our div gets focus\n",
       "\n",
       "    // location in version 3\n",
       "    if (IPython.notebook.keyboard_manager) {\n",
       "        IPython.notebook.keyboard_manager.register_events(el);\n",
       "    }\n",
       "    else {\n",
       "        // location in version 2\n",
       "        IPython.keyboard_manager.register_events(el);\n",
       "    }\n",
       "\n",
       "}\n",
       "\n",
       "mpl.figure.prototype._key_event_extra = function(event, name) {\n",
       "    var manager = IPython.notebook.keyboard_manager;\n",
       "    if (!manager)\n",
       "        manager = IPython.keyboard_manager;\n",
       "\n",
       "    // Check for shift+enter\n",
       "    if (event.shiftKey && event.which == 13) {\n",
       "        this.canvas_div.blur();\n",
       "        // select the cell after this one\n",
       "        var index = IPython.notebook.find_cell_index(this.cell_info[0]);\n",
       "        IPython.notebook.select(index + 1);\n",
       "    }\n",
       "}\n",
       "\n",
       "mpl.figure.prototype.handle_save = function(fig, msg) {\n",
       "    fig.ondownload(fig, null);\n",
       "}\n",
       "\n",
       "\n",
       "mpl.find_output_cell = function(html_output) {\n",
       "    // Return the cell and output element which can be found *uniquely* in the notebook.\n",
       "    // Note - this is a bit hacky, but it is done because the \"notebook_saving.Notebook\"\n",
       "    // IPython event is triggered only after the cells have been serialised, which for\n",
       "    // our purposes (turning an active figure into a static one), is too late.\n",
       "    var cells = IPython.notebook.get_cells();\n",
       "    var ncells = cells.length;\n",
       "    for (var i=0; i<ncells; i++) {\n",
       "        var cell = cells[i];\n",
       "        if (cell.cell_type === 'code'){\n",
       "            for (var j=0; j<cell.output_area.outputs.length; j++) {\n",
       "                var data = cell.output_area.outputs[j];\n",
       "                if (data.data) {\n",
       "                    // IPython >= 3 moved mimebundle to data attribute of output\n",
       "                    data = data.data;\n",
       "                }\n",
       "                if (data['text/html'] == html_output) {\n",
       "                    return [cell, data, j];\n",
       "                }\n",
       "            }\n",
       "        }\n",
       "    }\n",
       "}\n",
       "\n",
       "// Register the function which deals with the matplotlib target/channel.\n",
       "// The kernel may be null if the page has been refreshed.\n",
       "if (IPython.notebook.kernel != null) {\n",
       "    IPython.notebook.kernel.comm_manager.register_target('matplotlib', mpl.mpl_figure_comm);\n",
       "}\n"
      ],
      "text/plain": [
       "<IPython.core.display.Javascript object>"
      ]
     },
     "metadata": {},
     "output_type": "display_data"
    },
    {
     "data": {
      "text/html": [
       "<img src=\"data:image/png;base64,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\">"
      ],
      "text/plain": [
       "<IPython.core.display.HTML object>"
      ]
     },
     "metadata": {},
     "output_type": "display_data"
    },
    {
     "data": {
      "text/plain": [
       "<matplotlib.legend.Legend at 0x7f5daecab310>"
      ]
     },
     "execution_count": 16,
     "metadata": {},
     "output_type": "execute_result"
    }
   ],
   "source": [
    "dos0= hh.load(initdos)\n",
    "plt.plot(dos0.E, dos0.I, '+', label='DOS from Ei=300meV data')\n",
    "dos = hh.load('work/final-dos.h5')\n",
    "plt.plot(dos.E, dos.I, label='new DOS')\n",
    "plt.xlim(0, 230)\n",
    "plt.legend(loc='top left')"
   ]
  },
  {
   "cell_type": "markdown",
   "metadata": {},
   "source": [
    "## Refine GetDOS"
   ]
  },
  {
   "cell_type": "code",
   "execution_count": null,
   "metadata": {
    "collapsed": true
   },
   "outputs": [],
   "source": [
    "# if you need to run getdos again with slightly modified options\n",
    "# you can start from the previous settings\n",
    "notebookUI(samplenxs, mtnxs, load_options_path=\"./work/getdos-opts.yaml\")"
   ]
  }
 ],
 "metadata": {
  "kernelspec": {
   "display_name": "dev-mph",
   "language": "python",
   "name": "dev-mph"
  },
  "language_info": {
   "codemirror_mode": {
    "name": "ipython",
    "version": 2
   },
   "file_extension": ".py",
   "mimetype": "text/x-python",
   "name": "python",
   "nbconvert_exporter": "python",
   "pygments_lexer": "ipython2",
   "version": "2.7.12"
  },
  "widgets": {
   "state": {
    "00d6d1a106a542ad8e1e42308da0d176": {
     "views": [
      {
       "cell_index": 6
      }
     ]
    },
    "05cadaef338f46b2ab82e578636953f9": {
     "views": [
      {
       "cell_index": 6
      }
     ]
    },
    "09a112da61f64b44bc1c131bcb96c221": {
     "views": [
      {
       "cell_index": 6
      }
     ]
    },
    "0bf45f2160da410aaa58af9cc8bde24a": {
     "views": [
      {
       "cell_index": 6
      }
     ]
    },
    "13a422d4e0594ef78ce8612002e103c1": {
     "views": [
      {
       "cell_index": 6
      }
     ]
    },
    "17e4841f303849efb8b80263236483b0": {
     "views": [
      {
       "cell_index": 5
      }
     ]
    },
    "180c8da4c43344cdb5336a8d97bd6958": {
     "views": [
      {
       "cell_index": 6
      }
     ]
    },
    "188ad23345584d2eb2e5fe5e0d34d3f1": {
     "views": [
      {
       "cell_index": 6
      }
     ]
    },
    "1a577c721f8846ebaa5a675ba5cf797b": {
     "views": [
      {
       "cell_index": 6
      }
     ]
    },
    "1fc18503c284444d91b2b2524e03166b": {
     "views": [
      {
       "cell_index": 6
      }
     ]
    },
    "1fd3af1e79694c7bac7834f8db67262b": {
     "views": [
      {
       "cell_index": 6
      }
     ]
    },
    "222411f7173b4b4e88b44dbc46476f08": {
     "views": [
      {
       "cell_index": 6
      }
     ]
    },
    "22a6c515967640a590502abb83d1bdca": {
     "views": [
      {
       "cell_index": 6
      }
     ]
    },
    "235919b136e540e29e20fdd2352b6453": {
     "views": [
      {
       "cell_index": 6
      }
     ]
    },
    "23712214e4524548ae8fc287bf0b825d": {
     "views": [
      {
       "cell_index": 6
      }
     ]
    },
    "23874805bd3548ef9ce1b55a8beedb19": {
     "views": [
      {
       "cell_index": 6
      }
     ]
    },
    "23fc7d5b5dd24de79932e42efd529f1b": {
     "views": [
      {
       "cell_index": 6
      }
     ]
    },
    "2d727964b44b4456a7d7cc900dfd5e30": {
     "views": [
      {
       "cell_index": 6
      }
     ]
    },
    "2e07026a80ec4c86bea5801f6593068a": {
     "views": [
      {
       "cell_index": 6
      }
     ]
    },
    "318e457f17db4b6eaf70cce037133585": {
     "views": [
      {
       "cell_index": 8
      }
     ]
    },
    "383c447b61b04a0e848b79fd7618da66": {
     "views": [
      {
       "cell_index": 5
      }
     ]
    },
    "3bf8bc48f93d49f99fdd3ef7b3405161": {
     "views": [
      {
       "cell_index": 6
      }
     ]
    },
    "43e9a26974d24b1e9408c0cfee717d68": {
     "views": [
      {
       "cell_index": 6
      }
     ]
    },
    "45e4b3ef287c41788d501e7cfb284596": {
     "views": [
      {
       "cell_index": 6
      }
     ]
    },
    "47c322eb80824fe884bc9c0d616a7ea5": {
     "views": [
      {
       "cell_index": 6
      }
     ]
    },
    "492ec180bb08428cb70c7c93529a4556": {
     "views": [
      {
       "cell_index": 6
      }
     ]
    },
    "4cd5da30e61d47e4b8a222e0064bc2d6": {
     "views": [
      {
       "cell_index": 6
      }
     ]
    },
    "4e01b74a4e3647dd8b4b90392d24f123": {
     "views": [
      {
       "cell_index": 6
      }
     ]
    },
    "4e6e5f71237a4a82884487f879ded77c": {
     "views": [
      {
       "cell_index": 6
      }
     ]
    },
    "4e8a7bbafca04f79bbbbf39ce1c44cf0": {
     "views": [
      {
       "cell_index": 6
      }
     ]
    },
    "5030855016084c9a8b2fd43a77a12def": {
     "views": [
      {
       "cell_index": 6
      }
     ]
    },
    "50a4b87deef641249cf2a76c2d01f150": {
     "views": [
      {
       "cell_index": 6
      }
     ]
    },
    "524f61084f3a4dec864447d57211e24f": {
     "views": [
      {
       "cell_index": 5
      }
     ]
    },
    "53d80e00efcf4e04b8379844370a5a32": {
     "views": [
      {
       "cell_index": 6
      }
     ]
    },
    "54751c89b2944ababb0f6bd36db7fc90": {
     "views": [
      {
       "cell_index": 6
      }
     ]
    },
    "58f1a5742a2841d295e192e78e96241a": {
     "views": [
      {
       "cell_index": 6
      }
     ]
    },
    "5965242f72204da4a6fefc9660a25ee0": {
     "views": [
      {
       "cell_index": 5
      }
     ]
    },
    "5b31ad8774784485abf8e27bca116511": {
     "views": [
      {
       "cell_index": 6
      }
     ]
    },
    "5b519a5bfe9348babf48295a16f895e1": {
     "views": [
      {
       "cell_index": 6
      }
     ]
    },
    "60c719bca26b48468d313bf5a67f54da": {
     "views": [
      {
       "cell_index": 6
      }
     ]
    },
    "616d024c0e43477faab57820285e8c0e": {
     "views": [
      {
       "cell_index": 6
      }
     ]
    },
    "62c97b89f3664ee9a40e6677cbf821b2": {
     "views": [
      {
       "cell_index": 5
      }
     ]
    },
    "6405400b70304a17b8ae3d7b9449ba99": {
     "views": [
      {
       "cell_index": 6
      }
     ]
    },
    "660da110cd1049a6b9665330b6219926": {
     "views": [
      {
       "cell_index": 6
      }
     ]
    },
    "668d25dc642d4268bd97731ab6c23407": {
     "views": [
      {
       "cell_index": 6
      }
     ]
    },
    "67396748fc184453ac7e276b7c8d05d2": {
     "views": [
      {
       "cell_index": 6
      }
     ]
    },
    "68a902cb9538461f8dde10a6d0e53ecb": {
     "views": [
      {
       "cell_index": 6
      }
     ]
    },
    "719c99308fad4db29a39f94829794b2a": {
     "views": [
      {
       "cell_index": 6
      }
     ]
    },
    "73a977dcbe6b4c25a40ed6dadcf7132c": {
     "views": [
      {
       "cell_index": 6
      }
     ]
    },
    "7430fd9d4f56474d91e8f1eb3644bd5e": {
     "views": [
      {
       "cell_index": 6
      }
     ]
    },
    "77e1e1b5e55944db91b89583bcaf1807": {
     "views": [
      {
       "cell_index": 6
      }
     ]
    },
    "7d2de4fa4f794d5d979dede6677b8670": {
     "views": [
      {
       "cell_index": 8
      }
     ]
    },
    "7ebec58a0944417c992f581a704c31e1": {
     "views": [
      {
       "cell_index": 5
      }
     ]
    },
    "85c4f9ad6429499f83a36b1abd253ca6": {
     "views": [
      {
       "cell_index": 5
      }
     ]
    },
    "881e93bf32f44287ab36924465cf8958": {
     "views": [
      {
       "cell_index": 8
      }
     ]
    },
    "8c27bd0ae8f848abbade0547bfdf32bb": {
     "views": [
      {
       "cell_index": 6
      }
     ]
    },
    "8d70dfc2429243cc876930061dddb176": {
     "views": [
      {
       "cell_index": 6
      }
     ]
    },
    "8f7591aa3d42470c8dfea8dfb5dd7ac8": {
     "views": [
      {
       "cell_index": 8
      }
     ]
    },
    "9035c86d812d4cfc91842c0490b0c99b": {
     "views": [
      {
       "cell_index": 6
      }
     ]
    },
    "930f8ef291d04ea3afd6eacbc46ee7ac": {
     "views": [
      {
       "cell_index": 6
      }
     ]
    },
    "949f879a7e7b4a0e806ee8f96f06022a": {
     "views": [
      {
       "cell_index": 6
      }
     ]
    },
    "96682718ae6b449ba9204d1d1273fa6a": {
     "views": [
      {
       "cell_index": 6
      }
     ]
    },
    "9808fbbfbbdb47108569f8c4f6b059c2": {
     "views": [
      {
       "cell_index": 6
      }
     ]
    },
    "9a4959c62894418e94916e0d6bb807fd": {
     "views": [
      {
       "cell_index": 6
      }
     ]
    },
    "9b6a7b2087c74031bcb09adb94be937b": {
     "views": [
      {
       "cell_index": 6
      }
     ]
    },
    "9b6ba99c72644b6a8c57c60497cb2419": {
     "views": [
      {
       "cell_index": 6
      }
     ]
    },
    "9ee5c7e5eea847919b7dc44dff10ca83": {
     "views": [
      {
       "cell_index": 6
      }
     ]
    },
    "9f7c0bd531164c3bb4a084db5fc31f5e": {
     "views": [
      {
       "cell_index": 6
      }
     ]
    },
    "a01319c20b08455fa775243e943b6c10": {
     "views": [
      {
       "cell_index": 6
      }
     ]
    },
    "a4062607e2924a80bf59ba1caeb1835a": {
     "views": [
      {
       "cell_index": 6
      }
     ]
    },
    "ab0036695ff84c0db64c90ab4f98aee8": {
     "views": [
      {
       "cell_index": 8
      }
     ]
    },
    "ab1757ae6edb41cc83c1f9c5c8ce4b46": {
     "views": [
      {
       "cell_index": 6
      }
     ]
    },
    "acbbd939c02d45bc9f6f650b2488b16f": {
     "views": [
      {
       "cell_index": 6
      }
     ]
    },
    "ae21db2ecd5744a79651bf54e67dedcf": {
     "views": [
      {
       "cell_index": 8
      }
     ]
    },
    "ae7fa5c3408b424eb019960dc6deec7a": {
     "views": [
      {
       "cell_index": 6
      }
     ]
    },
    "b04dc8542dc347e48297bbf727330f26": {
     "views": [
      {
       "cell_index": 6
      }
     ]
    },
    "b074f7fea5a648388d2c2fad6b8f3592": {
     "views": [
      {
       "cell_index": 6
      }
     ]
    },
    "b1e4edb07b754f39bd48adba09006102": {
     "views": [
      {
       "cell_index": 8
      }
     ]
    },
    "b275282110044c11bf822c30999a91cf": {
     "views": [
      {
       "cell_index": 6
      }
     ]
    },
    "b87de7205acf4af3ab03561241012734": {
     "views": [
      {
       "cell_index": 6
      }
     ]
    },
    "b9695eb0f1d64aaa9875c9f8d1c48547": {
     "views": [
      {
       "cell_index": 6
      }
     ]
    },
    "bbc13992cb0d4706abbb447c368f04e3": {
     "views": [
      {
       "cell_index": 5
      }
     ]
    },
    "bcb7c55b6c1f45039df99d0b74f039dc": {
     "views": [
      {
       "cell_index": 6
      }
     ]
    },
    "bdd219dc05434f0db1d56135a6f356d6": {
     "views": [
      {
       "cell_index": 6
      }
     ]
    },
    "beedf02ec68a4bf38819db53087ee381": {
     "views": [
      {
       "cell_index": 6
      }
     ]
    },
    "c4057a78352a4cd9b3a8874cb724050c": {
     "views": [
      {
       "cell_index": 6
      }
     ]
    },
    "c98cb9651c95470d95614e27eb10b045": {
     "views": [
      {
       "cell_index": 6
      }
     ]
    },
    "cb6931148ced4667b60335dbf4667b06": {
     "views": [
      {
       "cell_index": 6
      }
     ]
    },
    "cc32ad0ed0c44c1b8b854bd3b98d2aa5": {
     "views": [
      {
       "cell_index": 6
      }
     ]
    },
    "ce96cf9a63af47e5abcaea9fd63688f3": {
     "views": [
      {
       "cell_index": 6
      }
     ]
    },
    "db4a263478ab4c33b333f71cf786aa45": {
     "views": [
      {
       "cell_index": 6
      }
     ]
    },
    "e2a65d36219b4e219a2eb53d9e2afde4": {
     "views": [
      {
       "cell_index": 6
      }
     ]
    },
    "e48ee6c2511f4231aeb742d900a80f84": {
     "views": [
      {
       "cell_index": 6
      }
     ]
    },
    "e56e3dece9bc451fb7e58ae34eb65d2c": {
     "views": [
      {
       "cell_index": 6
      }
     ]
    },
    "e7473e1b8a924eed9ee3e1e6b49ba24d": {
     "views": [
      {
       "cell_index": 6
      }
     ]
    },
    "e77464a3befb44df86160e644a08df40": {
     "views": [
      {
       "cell_index": 6
      }
     ]
    },
    "e777a7a91a3749598893e6c3a61fb661": {
     "views": [
      {
       "cell_index": 6
      }
     ]
    },
    "e8b2248aeec7474f8a3fe8abd62391dc": {
     "views": [
      {
       "cell_index": 6
      }
     ]
    },
    "e9f2a67d7bc94e1d97dd136db63625f4": {
     "views": [
      {
       "cell_index": 8
      }
     ]
    },
    "eb3d39f0cfbc42f797cd5d1d1453599c": {
     "views": [
      {
       "cell_index": 6
      }
     ]
    },
    "ec613117ab7540c68e3f6ad6e9ffeabc": {
     "views": [
      {
       "cell_index": 6
      }
     ]
    },
    "f16994c6977c4f1696f96652907021ab": {
     "views": [
      {
       "cell_index": 6
      }
     ]
    },
    "f4d0393521484fea9eae949ef122734e": {
     "views": [
      {
       "cell_index": 6
      }
     ]
    },
    "f4f87ad86dae4e56817835e841f557b0": {
     "views": [
      {
       "cell_index": 6
      }
     ]
    },
    "fdaf38047e6a4d38aec4d8fd76880ba4": {
     "views": [
      {
       "cell_index": 6
      }
     ]
    }
   },
   "version": "1.2.0"
  }
 },
 "nbformat": 4,
 "nbformat_minor": 1
}
